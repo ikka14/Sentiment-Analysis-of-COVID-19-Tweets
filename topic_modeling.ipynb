{
 "cells": [
  {
   "cell_type": "code",
   "metadata": {
    "tags": [],
    "cell_id": "290f241f-a5fe-4e51-a523-7a7f59973f02",
    "deepnote_to_be_reexecuted": false,
    "source_hash": "e5817b85",
    "execution_start": 1653813876362,
    "execution_millis": 8702,
    "owner_user_id": "bd13588d-9154-4e76-932c-658fe982a80d",
    "deepnote_cell_type": "code",
    "deepnote_cell_height": 625.1875
   },
   "source": "%load_ext autoreload\n%autoreload 2\n\nimport os\nfrom collections import (\n    Counter,\n    defaultdict,\n)\nfrom datetime import datetime\n\nimport matplotlib.pyplot as plt\nimport nltk\nimport numpy as np\nimport pandas as pd\nimport seaborn as sns\n\nfrom wordcloud import WordCloud\n\nnltk.download('stopwords')\nnltk.download('wordnet')\nnltk.download('omw-1.4')\n\nimport plot\nimport preprocess",
   "outputs": [
    {
     "name": "stdout",
     "text": "[nltk_data] Downloading package stopwords to /root/nltk_data...\n[nltk_data]   Unzipping corpora/stopwords.zip.\n[nltk_data] Downloading package wordnet to /root/nltk_data...\n[nltk_data]   Unzipping corpora/wordnet.zip.\n[nltk_data] Downloading package omw-1.4 to /root/nltk_data...\n[nltk_data]   Unzipping corpora/omw-1.4.zip.\n",
     "output_type": "stream"
    }
   ],
   "execution_count": null
  },
  {
   "cell_type": "code",
   "metadata": {
    "cell_id": "4ce14756d4db43c18fbe122866b73fd4",
    "tags": [],
    "deepnote_to_be_reexecuted": false,
    "source_hash": "d7a02d4d",
    "execution_start": 1653813885073,
    "execution_millis": 720,
    "deepnote_cell_type": "code",
    "deepnote_cell_height": 99
   },
   "source": "test_data = pd.read_csv(\"Corona_NLP_test.csv\")\ntrain_data = pd.read_csv(\"Corona_NLP_train.csv\")",
   "outputs": [],
   "execution_count": null
  },
  {
   "cell_type": "code",
   "metadata": {
    "cell_id": "387ff6d70b104f27ac0da4835bf38cfb",
    "tags": [],
    "deepnote_to_be_reexecuted": false,
    "source_hash": "552c8103",
    "execution_start": 1653813885824,
    "execution_millis": 691,
    "deepnote_cell_type": "code",
    "deepnote_cell_height": 485
   },
   "source": "import re\n\n# Renaming coulm \"OriginalTweet\" to \"Tweet\" for train and test d\ntrain_data.rename(columns={'OriginalTweet': 'Tweet'}, inplace=True)\ntest_data.rename(columns={'OriginalTweet': 'Tweet'}, inplace=True)\ntrain_data.head()",
   "outputs": [
    {
     "output_type": "execute_result",
     "execution_count": 3,
     "data": {
      "application/vnd.deepnote.dataframe.v3+json": {
       "column_count": 6,
       "row_count": 5,
       "columns": [
        {
         "name": "UserName",
         "dtype": "int64",
         "stats": {
          "unique_count": 5,
          "nan_count": 0,
          "min": "3799",
          "max": "3803",
          "histogram": [
           {
            "bin_start": 3799,
            "bin_end": 3799.4,
            "count": 1
           },
           {
            "bin_start": 3799.4,
            "bin_end": 3799.8,
            "count": 0
           },
           {
            "bin_start": 3799.8,
            "bin_end": 3800.2,
            "count": 1
           },
           {
            "bin_start": 3800.2,
            "bin_end": 3800.6,
            "count": 0
           },
           {
            "bin_start": 3800.6,
            "bin_end": 3801,
            "count": 0
           },
           {
            "bin_start": 3801,
            "bin_end": 3801.4,
            "count": 1
           },
           {
            "bin_start": 3801.4,
            "bin_end": 3801.8,
            "count": 0
           },
           {
            "bin_start": 3801.8,
            "bin_end": 3802.2,
            "count": 1
           },
           {
            "bin_start": 3802.2,
            "bin_end": 3802.6,
            "count": 0
           },
           {
            "bin_start": 3802.6,
            "bin_end": 3803,
            "count": 1
           }
          ]
         }
        },
        {
         "name": "ScreenName",
         "dtype": "int64",
         "stats": {
          "unique_count": 5,
          "nan_count": 0,
          "min": "48751",
          "max": "48755",
          "histogram": [
           {
            "bin_start": 48751,
            "bin_end": 48751.4,
            "count": 1
           },
           {
            "bin_start": 48751.4,
            "bin_end": 48751.8,
            "count": 0
           },
           {
            "bin_start": 48751.8,
            "bin_end": 48752.2,
            "count": 1
           },
           {
            "bin_start": 48752.2,
            "bin_end": 48752.6,
            "count": 0
           },
           {
            "bin_start": 48752.6,
            "bin_end": 48753,
            "count": 0
           },
           {
            "bin_start": 48753,
            "bin_end": 48753.4,
            "count": 1
           },
           {
            "bin_start": 48753.4,
            "bin_end": 48753.8,
            "count": 0
           },
           {
            "bin_start": 48753.8,
            "bin_end": 48754.2,
            "count": 1
           },
           {
            "bin_start": 48754.2,
            "bin_end": 48754.6,
            "count": 0
           },
           {
            "bin_start": 48754.6,
            "bin_end": 48755,
            "count": 1
           }
          ]
         }
        },
        {
         "name": "Location",
         "dtype": "object",
         "stats": {
          "unique_count": 3,
          "nan_count": 2,
          "categories": [
           {
            "name": "London",
            "count": 1
           },
           {
            "name": "2 others",
            "count": 2
           },
           {
            "name": "Missing",
            "count": 2
           }
          ]
         }
        },
        {
         "name": "TweetAt",
         "dtype": "object",
         "stats": {
          "unique_count": 1,
          "nan_count": 0,
          "categories": [
           {
            "name": "16-03-2020",
            "count": 5
           }
          ]
         }
        },
        {
         "name": "Tweet",
         "dtype": "object",
         "stats": {
          "unique_count": 5,
          "nan_count": 0,
          "categories": [
           {
            "name": "@MeNyrbie @Phil_Gahan @Chrisitv https://t.co/iFz9FAn2Pa and https://t.co/xX6ghGFzCC and https://t.co/I2NlzdxNo8",
            "count": 1
           },
           {
            "name": "advice Talk to your neighbours family to exchange phone numbers create contact list with phone numbers of neighbours schools employer chemist GP set up online shopping accounts if poss adequate supplies of regular meds but not over order",
            "count": 1
           },
           {
            "name": "3 others",
            "count": 3
           }
          ]
         }
        },
        {
         "name": "Sentiment",
         "dtype": "object",
         "stats": {
          "unique_count": 3,
          "nan_count": 0,
          "categories": [
           {
            "name": "Positive",
            "count": 3
           },
           {
            "name": "Neutral",
            "count": 1
           },
           {
            "name": "Extremely Negative",
            "count": 1
           }
          ]
         }
        },
        {
         "name": "_deepnote_index_column",
         "dtype": "int64"
        }
       ],
       "rows": [
        {
         "UserName": 3799,
         "ScreenName": 48751,
         "Location": "London",
         "TweetAt": "16-03-2020",
         "Tweet": "@MeNyrbie @Phil_Gahan @Chrisitv https://t.co/iFz9FAn2Pa and https://t.co/xX6ghGFzCC and https://t.co/I2NlzdxNo8",
         "Sentiment": "Neutral",
         "_deepnote_index_column": 0
        },
        {
         "UserName": 3800,
         "ScreenName": 48752,
         "Location": "UK",
         "TweetAt": "16-03-2020",
         "Tweet": "advice Talk to your neighbours family to exchange phone numbers create contact list with phone numbers of neighbours schools employer chemist GP set up online shopping accounts if poss adequate supplies of regular meds but not over order",
         "Sentiment": "Positive",
         "_deepnote_index_column": 1
        },
        {
         "UserName": 3801,
         "ScreenName": 48753,
         "Location": "Vagabonds",
         "TweetAt": "16-03-2020",
         "Tweet": "Coronavirus Australia: Woolworths to give elderly, disabled dedicated shopping hours amid COVID-19 outbreak https://t.co/bInCA9Vp8P",
         "Sentiment": "Positive",
         "_deepnote_index_column": 2
        },
        {
         "UserName": 3802,
         "ScreenName": 48754,
         "Location": "nan",
         "TweetAt": "16-03-2020",
         "Tweet": "My food stock is not the only one which is empty...\r\r\n\r\r\nPLEASE, don't panic, THERE WILL BE ENOUGH FOOD FOR EVERYONE if you do not take more than you need. \r\r\nStay calm, stay safe.\r\r\n\r\r\n#COVID19france #COVID_19 #COVID19 #coronavirus #confinement #Confinementotal #ConfinementGeneral https://t.co/zrlG0Z520j",
         "Sentiment": "Positive",
         "_deepnote_index_column": 3
        },
        {
         "UserName": 3803,
         "ScreenName": 48755,
         "Location": "nan",
         "TweetAt": "16-03-2020",
         "Tweet": "Me, ready to go at supermarket during the #COVID19 outbreak.\r\r\n\r\r\nNot because I'm paranoid, but because my food stock is litteraly empty. The #coronavirus is a serious thing, but please, don't panic. It causes shortage...\r\r\n\r\r\n#CoronavirusFrance #restezchezvous #StayAtHome #confinement https://t.co/usmuaLq72n",
         "Sentiment": "Extremely Negative",
         "_deepnote_index_column": 4
        }
       ]
      },
      "text/plain": "   UserName  ScreenName   Location     TweetAt  \\\n0      3799       48751     London  16-03-2020   \n1      3800       48752         UK  16-03-2020   \n2      3801       48753  Vagabonds  16-03-2020   \n3      3802       48754        NaN  16-03-2020   \n4      3803       48755        NaN  16-03-2020   \n\n                                               Tweet           Sentiment  \n0  @MeNyrbie @Phil_Gahan @Chrisitv https://t.co/i...             Neutral  \n1  advice Talk to your neighbours family to excha...            Positive  \n2  Coronavirus Australia: Woolworths to give elde...            Positive  \n3  My food stock is not the only one which is emp...            Positive  \n4  Me, ready to go at supermarket during the #COV...  Extremely Negative  ",
      "text/html": "<div>\n<style scoped>\n    .dataframe tbody tr th:only-of-type {\n        vertical-align: middle;\n    }\n\n    .dataframe tbody tr th {\n        vertical-align: top;\n    }\n\n    .dataframe thead th {\n        text-align: right;\n    }\n</style>\n<table border=\"1\" class=\"dataframe\">\n  <thead>\n    <tr style=\"text-align: right;\">\n      <th></th>\n      <th>UserName</th>\n      <th>ScreenName</th>\n      <th>Location</th>\n      <th>TweetAt</th>\n      <th>Tweet</th>\n      <th>Sentiment</th>\n    </tr>\n  </thead>\n  <tbody>\n    <tr>\n      <th>0</th>\n      <td>3799</td>\n      <td>48751</td>\n      <td>London</td>\n      <td>16-03-2020</td>\n      <td>@MeNyrbie @Phil_Gahan @Chrisitv https://t.co/i...</td>\n      <td>Neutral</td>\n    </tr>\n    <tr>\n      <th>1</th>\n      <td>3800</td>\n      <td>48752</td>\n      <td>UK</td>\n      <td>16-03-2020</td>\n      <td>advice Talk to your neighbours family to excha...</td>\n      <td>Positive</td>\n    </tr>\n    <tr>\n      <th>2</th>\n      <td>3801</td>\n      <td>48753</td>\n      <td>Vagabonds</td>\n      <td>16-03-2020</td>\n      <td>Coronavirus Australia: Woolworths to give elde...</td>\n      <td>Positive</td>\n    </tr>\n    <tr>\n      <th>3</th>\n      <td>3802</td>\n      <td>48754</td>\n      <td>NaN</td>\n      <td>16-03-2020</td>\n      <td>My food stock is not the only one which is emp...</td>\n      <td>Positive</td>\n    </tr>\n    <tr>\n      <th>4</th>\n      <td>3803</td>\n      <td>48755</td>\n      <td>NaN</td>\n      <td>16-03-2020</td>\n      <td>Me, ready to go at supermarket during the #COV...</td>\n      <td>Extremely Negative</td>\n    </tr>\n  </tbody>\n</table>\n</div>"
     },
     "metadata": {}
    }
   ],
   "execution_count": null
  },
  {
   "cell_type": "code",
   "metadata": {
    "cell_id": "1d97fb7c86e44e85807f6f764560ac09",
    "tags": [],
    "deepnote_to_be_reexecuted": false,
    "source_hash": "74dc1ffb",
    "execution_start": 1653813886009,
    "execution_millis": 553,
    "deepnote_cell_type": "code",
    "deepnote_cell_height": 395
   },
   "source": "test_data.head()",
   "outputs": [
    {
     "output_type": "execute_result",
     "execution_count": 4,
     "data": {
      "application/vnd.deepnote.dataframe.v3+json": {
       "column_count": 6,
       "row_count": 5,
       "columns": [
        {
         "name": "UserName",
         "dtype": "int64",
         "stats": {
          "unique_count": 5,
          "nan_count": 0,
          "min": "1",
          "max": "5",
          "histogram": [
           {
            "bin_start": 1,
            "bin_end": 1.4,
            "count": 1
           },
           {
            "bin_start": 1.4,
            "bin_end": 1.8,
            "count": 0
           },
           {
            "bin_start": 1.8,
            "bin_end": 2.2,
            "count": 1
           },
           {
            "bin_start": 2.2,
            "bin_end": 2.6,
            "count": 0
           },
           {
            "bin_start": 2.6,
            "bin_end": 3,
            "count": 0
           },
           {
            "bin_start": 3,
            "bin_end": 3.4000000000000004,
            "count": 1
           },
           {
            "bin_start": 3.4000000000000004,
            "bin_end": 3.8000000000000003,
            "count": 0
           },
           {
            "bin_start": 3.8000000000000003,
            "bin_end": 4.2,
            "count": 1
           },
           {
            "bin_start": 4.2,
            "bin_end": 4.6,
            "count": 0
           },
           {
            "bin_start": 4.6,
            "bin_end": 5,
            "count": 1
           }
          ]
         }
        },
        {
         "name": "ScreenName",
         "dtype": "int64",
         "stats": {
          "unique_count": 5,
          "nan_count": 0,
          "min": "44953",
          "max": "44957",
          "histogram": [
           {
            "bin_start": 44953,
            "bin_end": 44953.4,
            "count": 1
           },
           {
            "bin_start": 44953.4,
            "bin_end": 44953.8,
            "count": 0
           },
           {
            "bin_start": 44953.8,
            "bin_end": 44954.2,
            "count": 1
           },
           {
            "bin_start": 44954.2,
            "bin_end": 44954.6,
            "count": 0
           },
           {
            "bin_start": 44954.6,
            "bin_end": 44955,
            "count": 0
           },
           {
            "bin_start": 44955,
            "bin_end": 44955.4,
            "count": 1
           },
           {
            "bin_start": 44955.4,
            "bin_end": 44955.8,
            "count": 0
           },
           {
            "bin_start": 44955.8,
            "bin_end": 44956.2,
            "count": 1
           },
           {
            "bin_start": 44956.2,
            "bin_end": 44956.6,
            "count": 0
           },
           {
            "bin_start": 44956.6,
            "bin_end": 44957,
            "count": 1
           }
          ]
         }
        },
        {
         "name": "Location",
         "dtype": "object",
         "stats": {
          "unique_count": 4,
          "nan_count": 1,
          "categories": [
           {
            "name": "NYC",
            "count": 1
           },
           {
            "name": "3 others",
            "count": 3
           },
           {
            "name": "Missing",
            "count": 1
           }
          ]
         }
        },
        {
         "name": "TweetAt",
         "dtype": "object",
         "stats": {
          "unique_count": 2,
          "nan_count": 0,
          "categories": [
           {
            "name": "02-03-2020",
            "count": 4
           },
           {
            "name": "03-03-2020",
            "count": 1
           }
          ]
         }
        },
        {
         "name": "Tweet",
         "dtype": "object",
         "stats": {
          "unique_count": 5,
          "nan_count": 0,
          "categories": [
           {
            "name": "TRENDING: New Yorkers encounter empty supermarket shelves (pictured, Wegmans in Brooklyn), sold-out online grocers (FoodKick, MaxDelivery) as #coronavirus-fearing shoppers stock up https://t.co/Gr76pcrLWh https://t.co/ivMKMsqdT1",
            "count": 1
           },
           {
            "name": "When I couldn't find hand sanitizer at Fred Meyer, I turned to #Amazon. But $114.97 for a 2 pack of Purell??!!Check out how  #coronavirus concerns are driving up prices. https://t.co/ygbipBflMY",
            "count": 1
           },
           {
            "name": "3 others",
            "count": 3
           }
          ]
         }
        },
        {
         "name": "Sentiment",
         "dtype": "object",
         "stats": {
          "unique_count": 5,
          "nan_count": 0,
          "categories": [
           {
            "name": "Extremely Negative",
            "count": 1
           },
           {
            "name": "Positive",
            "count": 1
           },
           {
            "name": "3 others",
            "count": 3
           }
          ]
         }
        },
        {
         "name": "_deepnote_index_column",
         "dtype": "int64"
        }
       ],
       "rows": [
        {
         "UserName": 1,
         "ScreenName": 44953,
         "Location": "NYC",
         "TweetAt": "02-03-2020",
         "Tweet": "TRENDING: New Yorkers encounter empty supermarket shelves (pictured, Wegmans in Brooklyn), sold-out online grocers (FoodKick, MaxDelivery) as #coronavirus-fearing shoppers stock up https://t.co/Gr76pcrLWh https://t.co/ivMKMsqdT1",
         "Sentiment": "Extremely Negative",
         "_deepnote_index_column": 0
        },
        {
         "UserName": 2,
         "ScreenName": 44954,
         "Location": "Seattle, WA",
         "TweetAt": "02-03-2020",
         "Tweet": "When I couldn't find hand sanitizer at Fred Meyer, I turned to #Amazon. But $114.97 for a 2 pack of Purell??!!Check out how  #coronavirus concerns are driving up prices. https://t.co/ygbipBflMY",
         "Sentiment": "Positive",
         "_deepnote_index_column": 1
        },
        {
         "UserName": 3,
         "ScreenName": 44955,
         "Location": "nan",
         "TweetAt": "02-03-2020",
         "Tweet": "Find out how you can protect yourself and loved ones from #coronavirus. ?",
         "Sentiment": "Extremely Positive",
         "_deepnote_index_column": 2
        },
        {
         "UserName": 4,
         "ScreenName": 44956,
         "Location": "Chicagoland",
         "TweetAt": "02-03-2020",
         "Tweet": "#Panic buying hits #NewYork City as anxious shoppers stock up on food&amp;medical supplies after #healthcare worker in her 30s becomes #BigApple 1st confirmed #coronavirus patient OR a #Bloomberg staged event?\r\r\n\r\r\nhttps://t.co/IASiReGPC4\r\r\n\r\r\n#QAnon #QAnon2018 #QAnon2020 \r\r\n#Election2020 #CDC https://t.co/29isZOewxu",
         "Sentiment": "Negative",
         "_deepnote_index_column": 3
        },
        {
         "UserName": 5,
         "ScreenName": 44957,
         "Location": "Melbourne, Victoria",
         "TweetAt": "03-03-2020",
         "Tweet": "#toiletpaper #dunnypaper #coronavirus #coronavirusaustralia #CoronaVirusUpdate #Covid_19 #9News  #Corvid19 #7NewsMelb #dunnypapergate #Costco    One week everyone buying baby milk powder the next everyone buying up toilet paper. https://t.co/ScZryVvsIh",
         "Sentiment": "Neutral",
         "_deepnote_index_column": 4
        }
       ]
      },
      "text/plain": "   UserName  ScreenName             Location     TweetAt  \\\n0         1       44953                  NYC  02-03-2020   \n1         2       44954          Seattle, WA  02-03-2020   \n2         3       44955                  NaN  02-03-2020   \n3         4       44956          Chicagoland  02-03-2020   \n4         5       44957  Melbourne, Victoria  03-03-2020   \n\n                                               Tweet           Sentiment  \n0  TRENDING: New Yorkers encounter empty supermar...  Extremely Negative  \n1  When I couldn't find hand sanitizer at Fred Me...            Positive  \n2  Find out how you can protect yourself and love...  Extremely Positive  \n3  #Panic buying hits #NewYork City as anxious sh...            Negative  \n4  #toiletpaper #dunnypaper #coronavirus #coronav...             Neutral  ",
      "text/html": "<div>\n<style scoped>\n    .dataframe tbody tr th:only-of-type {\n        vertical-align: middle;\n    }\n\n    .dataframe tbody tr th {\n        vertical-align: top;\n    }\n\n    .dataframe thead th {\n        text-align: right;\n    }\n</style>\n<table border=\"1\" class=\"dataframe\">\n  <thead>\n    <tr style=\"text-align: right;\">\n      <th></th>\n      <th>UserName</th>\n      <th>ScreenName</th>\n      <th>Location</th>\n      <th>TweetAt</th>\n      <th>Tweet</th>\n      <th>Sentiment</th>\n    </tr>\n  </thead>\n  <tbody>\n    <tr>\n      <th>0</th>\n      <td>1</td>\n      <td>44953</td>\n      <td>NYC</td>\n      <td>02-03-2020</td>\n      <td>TRENDING: New Yorkers encounter empty supermar...</td>\n      <td>Extremely Negative</td>\n    </tr>\n    <tr>\n      <th>1</th>\n      <td>2</td>\n      <td>44954</td>\n      <td>Seattle, WA</td>\n      <td>02-03-2020</td>\n      <td>When I couldn't find hand sanitizer at Fred Me...</td>\n      <td>Positive</td>\n    </tr>\n    <tr>\n      <th>2</th>\n      <td>3</td>\n      <td>44955</td>\n      <td>NaN</td>\n      <td>02-03-2020</td>\n      <td>Find out how you can protect yourself and love...</td>\n      <td>Extremely Positive</td>\n    </tr>\n    <tr>\n      <th>3</th>\n      <td>4</td>\n      <td>44956</td>\n      <td>Chicagoland</td>\n      <td>02-03-2020</td>\n      <td>#Panic buying hits #NewYork City as anxious sh...</td>\n      <td>Negative</td>\n    </tr>\n    <tr>\n      <th>4</th>\n      <td>5</td>\n      <td>44957</td>\n      <td>Melbourne, Victoria</td>\n      <td>03-03-2020</td>\n      <td>#toiletpaper #dunnypaper #coronavirus #coronav...</td>\n      <td>Neutral</td>\n    </tr>\n  </tbody>\n</table>\n</div>"
     },
     "metadata": {}
    }
   ],
   "execution_count": null
  },
  {
   "cell_type": "code",
   "metadata": {
    "cell_id": "ce868b1104484bec986c296d28db6c69",
    "tags": [],
    "deepnote_to_be_reexecuted": false,
    "source_hash": "13c41aa7",
    "execution_start": 1653813886138,
    "execution_millis": 26046,
    "deepnote_cell_type": "code",
    "deepnote_cell_height": 149.71875
   },
   "source": "train_data = preprocess.tweets(train_data)\ntest_data = preprocess.tweets(test_data)",
   "outputs": [
    {
     "name": "stderr",
     "text": "/work/preprocess.py:36: FutureWarning: The default value of regex will change from True to False in a future version.\n  df.Tweet = df.Tweet.str.replace(reg, replace)\n",
     "output_type": "stream"
    }
   ],
   "execution_count": null
  },
  {
   "cell_type": "code",
   "metadata": {
    "cell_id": "7d8734ffc2a04995870177cc5dbd11ac",
    "tags": [],
    "deepnote_to_be_reexecuted": false,
    "source_hash": "93595859",
    "execution_start": 1653813912184,
    "execution_millis": 613,
    "deepnote_cell_type": "code",
    "deepnote_cell_height": 441
   },
   "source": "sentiment_map = {\n    'Extremely Negative': -2,\n    'Negative': -1,\n    'Neutral': 0,\n    'Positive': 1,\n    'Extremely Positive': 2,\n}\n\nbinary_sentiment_map = {\n    'Extremely Negative': 0,\n    'Negative': 0,\n    'Neutral': 1,\n    'Positive': 1,\n    'Extremely Positive': 1,\n}\n\n\ntrain_data['sentiment'] = train_data['Sentiment'].map(sentiment_map, na_action=None)\ntrain_data['sentiment_bin'] = train_data['Sentiment'].map(binary_sentiment_map, na_action=None)\ntest_data['sentiment'] = test_data['Sentiment'].map(sentiment_map, na_action=None)\ntest_data['sentiment_bin'] = test_data['Sentiment'].map(binary_sentiment_map, na_action=None)",
   "outputs": [],
   "execution_count": null
  },
  {
   "cell_type": "code",
   "metadata": {
    "cell_id": "084f16ce23bf48fda6448816653be07a",
    "tags": [],
    "deepnote_to_be_reexecuted": false,
    "source_hash": "736873cb",
    "execution_start": 1653813912814,
    "execution_millis": 64,
    "deepnote_cell_type": "code",
    "deepnote_cell_height": 99
   },
   "source": "include_cols = ['Tweet', 'tokenized_tweets']\ndf = train_data[include_cols]",
   "outputs": [],
   "execution_count": null
  },
  {
   "cell_type": "code",
   "metadata": {
    "cell_id": "a99df4d5d551417a9c2f661c51225f70",
    "tags": [],
    "deepnote_to_be_reexecuted": false,
    "source_hash": "8d42d830",
    "execution_start": 1653813912890,
    "execution_millis": 255,
    "deepnote_cell_type": "code",
    "deepnote_cell_height": 99
   },
   "source": "text_len = preprocess.word_count(df.Tweet)\ndf= df[text_len > 2]",
   "outputs": [],
   "execution_count": null
  },
  {
   "cell_type": "code",
   "metadata": {
    "cell_id": "c755ec08f36840c2b3b50cc897f62e37",
    "tags": [],
    "deepnote_to_be_reexecuted": false,
    "source_hash": "c085b6ba",
    "execution_start": 1653813913163,
    "execution_millis": 804,
    "deepnote_cell_type": "code",
    "deepnote_cell_height": 395
   },
   "source": "df.head()",
   "outputs": [
    {
     "output_type": "execute_result",
     "execution_count": 9,
     "data": {
      "application/vnd.deepnote.dataframe.v3+json": {
       "column_count": 2,
       "row_count": 5,
       "columns": [
        {
         "name": "Tweet",
         "dtype": "object",
         "stats": {
          "unique_count": 5,
          "nan_count": 0,
          "categories": [
           {
            "name": "advice talk neighbour family exchange phone number create contact list phone number neighbour school employer chemist gp set online shopping account po adequate supply regular med order",
            "count": 1
           },
           {
            "name": "coronavirus australia woolworth give elderly disabled dedicated shopping hour amid covid outbreak",
            "count": 1
           },
           {
            "name": "3 others",
            "count": 3
           }
          ]
         }
        },
        {
         "name": "tokenized_tweets",
         "dtype": "object",
         "stats": {
          "unique_count": 5,
          "nan_count": 0,
          "categories": [
           {
            "name": "['advice', 'talk', 'neighbour', 'family', 'exchange', 'phone', 'number', 'create', 'contact', 'list', 'phone', 'number', 'neighbour', 'school', 'employer', 'chemist', 'gp', 'set', 'online', 'shopping', 'account', 'po', 'adequate', 'supply', 'regular', 'med', 'order']",
            "count": 1
           },
           {
            "name": "['coronavirus', 'australia', 'woolworth', 'give', 'elderly', 'disabled', 'dedicated', 'shopping', 'hour', 'amid', 'covid', 'outbreak']",
            "count": 1
           },
           {
            "name": "3 others",
            "count": 3
           }
          ]
         }
        },
        {
         "name": "_deepnote_index_column",
         "dtype": "int64"
        }
       ],
       "rows": [
        {
         "Tweet": "advice talk neighbour family exchange phone number create contact list phone number neighbour school employer chemist gp set online shopping account po adequate supply regular med order",
         "tokenized_tweets": "['advice', 'talk', 'neighbour', 'family', 'exchange', 'phone', 'number', 'create', 'contact', 'list', 'phone', 'number', 'neighbour', 'school', 'employer', 'chemist', 'gp', 'set', 'online', 'shopping', 'account', 'po', 'adequate', 'supply', 'regular', 'med', 'order']",
         "_deepnote_index_column": 1
        },
        {
         "Tweet": "coronavirus australia woolworth give elderly disabled dedicated shopping hour amid covid outbreak",
         "tokenized_tweets": "['coronavirus', 'australia', 'woolworth', 'give', 'elderly', 'disabled', 'dedicated', 'shopping', 'hour', 'amid', 'covid', 'outbreak']",
         "_deepnote_index_column": 2
        },
        {
         "Tweet": "food stock one empty please panic enough food everyone take need stay calm stay safe",
         "tokenized_tweets": "['food', 'stock', 'one', 'empty', 'please', 'panic', 'enough', 'food', 'everyone', 'take', 'need', 'stay', 'calm', 'stay', 'safe']",
         "_deepnote_index_column": 3
        },
        {
         "Tweet": "ready go supermarket outbreak paranoid food stock litteraly empty serious thing please panic cause shortage",
         "tokenized_tweets": "['ready', 'go', 'supermarket', 'outbreak', 'paranoid', 'food', 'stock', 'litteraly', 'empty', 'serious', 'thing', 'please', 'panic', 'cause', 'shortage']",
         "_deepnote_index_column": 4
        },
        {
         "Tweet": "news region first confirmed covid case came sullivan county last week people flocked area store purchase cleaning supply hand sanitizer food toilet paper good report",
         "tokenized_tweets": "['news', 'region', 'first', 'confirmed', 'covid', 'case', 'came', 'sullivan', 'county', 'last', 'week', 'people', 'flocked', 'area', 'store', 'purchase', 'cleaning', 'supply', 'hand', 'sanitizer', 'food', 'toilet', 'paper', 'good', 'report']",
         "_deepnote_index_column": 5
        }
       ]
      },
      "text/plain": "                                               Tweet  \\\n1  advice talk neighbour family exchange phone nu...   \n2  coronavirus australia woolworth give elderly d...   \n3  food stock one empty please panic enough food ...   \n4  ready go supermarket outbreak paranoid food st...   \n5  news region first confirmed covid case came su...   \n\n                                    tokenized_tweets  \n1  [advice, talk, neighbour, family, exchange, ph...  \n2  [coronavirus, australia, woolworth, give, elde...  \n3  [food, stock, one, empty, please, panic, enoug...  \n4  [ready, go, supermarket, outbreak, paranoid, f...  \n5  [news, region, first, confirmed, covid, case, ...  ",
      "text/html": "<div>\n<style scoped>\n    .dataframe tbody tr th:only-of-type {\n        vertical-align: middle;\n    }\n\n    .dataframe tbody tr th {\n        vertical-align: top;\n    }\n\n    .dataframe thead th {\n        text-align: right;\n    }\n</style>\n<table border=\"1\" class=\"dataframe\">\n  <thead>\n    <tr style=\"text-align: right;\">\n      <th></th>\n      <th>Tweet</th>\n      <th>tokenized_tweets</th>\n    </tr>\n  </thead>\n  <tbody>\n    <tr>\n      <th>1</th>\n      <td>advice talk neighbour family exchange phone nu...</td>\n      <td>[advice, talk, neighbour, family, exchange, ph...</td>\n    </tr>\n    <tr>\n      <th>2</th>\n      <td>coronavirus australia woolworth give elderly d...</td>\n      <td>[coronavirus, australia, woolworth, give, elde...</td>\n    </tr>\n    <tr>\n      <th>3</th>\n      <td>food stock one empty please panic enough food ...</td>\n      <td>[food, stock, one, empty, please, panic, enoug...</td>\n    </tr>\n    <tr>\n      <th>4</th>\n      <td>ready go supermarket outbreak paranoid food st...</td>\n      <td>[ready, go, supermarket, outbreak, paranoid, f...</td>\n    </tr>\n    <tr>\n      <th>5</th>\n      <td>news region first confirmed covid case came su...</td>\n      <td>[news, region, first, confirmed, covid, case, ...</td>\n    </tr>\n  </tbody>\n</table>\n</div>"
     },
     "metadata": {}
    }
   ],
   "execution_count": null
  },
  {
   "cell_type": "code",
   "metadata": {
    "cell_id": "72a9388b525a4f78a5daebb804c3eb24",
    "tags": [],
    "deepnote_to_be_reexecuted": false,
    "source_hash": "4bc937ac",
    "execution_start": 1653813913396,
    "execution_millis": 14416,
    "deepnote_cell_type": "code",
    "deepnote_cell_height": 380.03125
   },
   "source": "pip install --upgrade pip",
   "outputs": [
    {
     "name": "stdout",
     "text": "Requirement already satisfied: pip in /root/venv/lib/python3.8/site-packages (21.1.1)\nCollecting pip\n  Downloading pip-22.1.1-py3-none-any.whl (2.1 MB)\n\u001b[K     |████████████████████████████████| 2.1 MB 8.0 MB/s \n\u001b[?25hInstalling collected packages: pip\n  Attempting uninstall: pip\n    Found existing installation: pip 21.1.1\n    Uninstalling pip-21.1.1:\n      Successfully uninstalled pip-21.1.1\nSuccessfully installed pip-22.1.1\n\u001b[33mWARNING: Running pip as root will break packages and permissions. You should install packages reliably by using venv: https://pip.pypa.io/warnings/venv\u001b[0m\nNote: you may need to restart the kernel to use updated packages.\n",
     "output_type": "stream"
    }
   ],
   "execution_count": null
  },
  {
   "cell_type": "code",
   "metadata": {
    "cell_id": "3d4b8d86eb2b4ecb85d3f30070e861e4",
    "tags": [],
    "deepnote_to_be_reexecuted": false,
    "source_hash": "56bc0e91",
    "execution_start": 1653813927826,
    "execution_millis": 13063,
    "deepnote_cell_type": "code",
    "deepnote_cell_height": 320.4375
   },
   "source": "!pip install gensim",
   "outputs": [
    {
     "name": "stdout",
     "text": "Collecting gensim\n  Downloading gensim-4.2.0-cp38-cp38-manylinux_2_12_x86_64.manylinux2010_x86_64.whl (24.1 MB)\n\u001b[2K     \u001b[90m━━━━━━━━━━━━━━━━━━━━━━━━━━━━━━━━━━━━━━━━\u001b[0m \u001b[32m24.1/24.1 MB\u001b[0m \u001b[31m21.8 MB/s\u001b[0m eta \u001b[36m0:00:00\u001b[0m\n\u001b[?25hRequirement already satisfied: smart-open>=1.8.1 in /shared-libs/python3.8/py/lib/python3.8/site-packages (from gensim) (5.2.1)\nRequirement already satisfied: scipy>=0.18.1 in /shared-libs/python3.8/py/lib/python3.8/site-packages (from gensim) (1.8.0)\nRequirement already satisfied: numpy>=1.17.0 in /shared-libs/python3.8/py/lib/python3.8/site-packages (from gensim) (1.22.3)\nInstalling collected packages: gensim\nSuccessfully installed gensim-4.2.0\n\u001b[33mWARNING: Running pip as the 'root' user can result in broken permissions and conflicting behaviour with the system package manager. It is recommended to use a virtual environment instead: https://pip.pypa.io/warnings/venv\u001b[0m\u001b[33m\n\u001b[0m",
     "output_type": "stream"
    }
   ],
   "execution_count": null
  },
  {
   "cell_type": "code",
   "metadata": {
    "cell_id": "ee45866401d84ac9836d4f362a5a485f",
    "tags": [],
    "deepnote_to_be_reexecuted": false,
    "source_hash": "fa0ad630",
    "execution_start": 1653813940904,
    "execution_millis": 6931,
    "deepnote_cell_type": "code",
    "deepnote_cell_height": 189
   },
   "source": "import gensim.corpora as corpora\n# Create Dictionary\nid2word = corpora.Dictionary(df['tokenized_tweets'])\n# Create Corpus\ntexts = df['tokenized_tweets']\n# Term Document Frequency\ncorpus = [id2word.doc2bow(text) for text in texts]",
   "outputs": [],
   "execution_count": null
  },
  {
   "cell_type": "code",
   "metadata": {
    "cell_id": "23d210f8752d4ac59399c28a2770ada3",
    "tags": [],
    "deepnote_to_be_reexecuted": false,
    "source_hash": "a4b94b6e",
    "execution_start": 1653813947848,
    "execution_millis": 75,
    "deepnote_cell_type": "code",
    "deepnote_cell_height": 116.53125
   },
   "source": "print(corpus[:1])",
   "outputs": [
    {
     "name": "stdout",
     "text": "[[(0, 1), (1, 1), (2, 1), (3, 1), (4, 1), (5, 1), (6, 1), (7, 1), (8, 1), (9, 1), (10, 1), (11, 1), (12, 2), (13, 2), (14, 1), (15, 1), (16, 2), (17, 1), (18, 1), (19, 1), (20, 1), (21, 1), (22, 1), (23, 1)]]\n",
     "output_type": "stream"
    }
   ],
   "execution_count": null
  },
  {
   "cell_type": "code",
   "metadata": {
    "cell_id": "63921854f439480da44697c1bc8e84e3",
    "tags": [],
    "deepnote_to_be_reexecuted": false,
    "source_hash": "1962ce2e",
    "execution_start": 1653813947937,
    "execution_millis": 54332,
    "deepnote_cell_type": "code",
    "deepnote_cell_height": 705.28125
   },
   "source": "from pprint import pprint\nfrom gensim.models import LdaMulticore\nfrom gensim.models import LdaModel\n\n\nlda_model = LdaModel(corpus=corpus,\n                   id2word=id2word,\n                   num_topics=5,\n                   random_state=0)\n\n# Print the Keyword in the topics\npprint(lda_model.print_topics())\ndoc_lda = lda_model[corpus]",
   "outputs": [
    {
     "name": "stdout",
     "text": "[(0,\n  '0.025*\"hand\" + 0.025*\"sanitizer\" + 0.018*\"shopping\" + 0.017*\"online\" + '\n  '0.016*\"mask\" + 0.013*\"grocery\" + 0.012*\"supermarket\" + 0.012*\"store\" + '\n  '0.008*\"covid\" + 0.007*\"home\"'),\n (1,\n  '0.040*\"store\" + 0.034*\"grocery\" + 0.024*\"supermarket\" + 0.012*\"people\" + '\n  '0.011*\"covid\" + 0.011*\"worker\" + 0.009*\"go\" + 0.008*\"like\" + 0.008*\"going\" '\n  '+ 0.007*\"work\"'),\n (2,\n  '0.042*\"consumer\" + 0.040*\"covid\" + 0.016*\"pandemic\" + 0.012*\"demand\" + '\n  '0.010*\"business\" + 0.009*\"online\" + 0.008*\"new\" + 0.007*\"coronavirus\" + '\n  '0.007*\"crisis\" + 0.007*\"impact\"'),\n (3,\n  '0.040*\"food\" + 0.013*\"covid\" + 0.012*\"people\" + 0.010*\"paper\" + '\n  '0.010*\"need\" + 0.009*\"stock\" + 0.009*\"toilet\" + 0.009*\"buying\" + '\n  '0.008*\"panic\" + 0.007*\"supply\"'),\n (4,\n  '0.066*\"price\" + 0.023*\"covid\" + 0.017*\"oil\" + 0.010*\"market\" + 0.007*\"low\" '\n  '+ 0.006*\"demand\" + 0.006*\"food\" + 0.006*\"cut\" + 0.005*\"people\" + '\n  '0.005*\"gas\"')]\n",
     "output_type": "stream"
    }
   ],
   "execution_count": null
  },
  {
   "cell_type": "code",
   "metadata": {
    "cell_id": "f9bebb070cbc49d185e33913612abdce",
    "tags": [],
    "deepnote_to_be_reexecuted": false,
    "source_hash": "e0b4cd61",
    "execution_start": 1653814002269,
    "execution_millis": 58851,
    "deepnote_cell_type": "code",
    "deepnote_cell_height": 294
   },
   "source": "# Coherence and perplexity \n\nfrom gensim.models.coherencemodel import CoherenceModel\n\ncoherence_model_lda = CoherenceModel(model=lda_model, texts=df['tokenized_tweets'], dictionary=id2word, coherence='c_v')\ncoherence_lda = coherence_model_lda.get_coherence()\nprint('Coherence Score: ', coherence_lda)\n\nperplexity = lda_model.log_perplexity(corpus)\nprint(\"perplexity score is : \", perplexity)",
   "outputs": [
    {
     "name": "stdout",
     "text": "Coherence Score:  0.3955907398292279\nperplexity score is :  -8.135251589758361\n",
     "output_type": "stream"
    }
   ],
   "execution_count": null
  },
  {
   "cell_type": "markdown",
   "source": "### Dominant&nbsp;topic&nbsp;and&nbsp;its&nbsp;percentage&nbsp;contribution&nbsp;in&nbsp;each&nbsp;document.&nbsp;",
   "metadata": {
    "cell_id": "d35b099c192f4039ab3c8bb001448ce3",
    "tags": [],
    "is_collapsed": false,
    "deepnote_cell_type": "text-cell-h3"
   }
  },
  {
   "cell_type": "code",
   "metadata": {
    "cell_id": "c826144b5815491c831744c72a2eda16",
    "tags": [],
    "deepnote_to_be_reexecuted": false,
    "source_hash": "cf5508dc",
    "execution_start": 1653814061134,
    "execution_millis": 297,
    "deepnote_cell_type": "code",
    "deepnote_cell_height": 513
   },
   "source": "def format_topics_sentences(ldamodel=None, corpus=corpus, texts=texts):\n    # Init output\n    sent_topics_df = pd.DataFrame()\n\n    # Get main topic in each document\n    for i, row_list in enumerate(ldamodel[corpus]):\n        row = row_list[0] if ldamodel.per_word_topics else row_list            \n        # print(row)\n        row = sorted(row, key=lambda x: (x[1]), reverse=True)\n\n        # Get the Dominant topic, Perc Contribution and Keywords for each document\n        for j, (topic_num, prop_topic) in enumerate(row):\n            if j == 0:  # => dominant topic\n                wp = ldamodel.show_topic(topic_num)\n                topic_keywords = \", \".join([word for word, prop in wp])\n                sent_topics_df = sent_topics_df.append(pd.Series([int(topic_num), round(prop_topic,4), topic_keywords]), ignore_index=True)\n            else:\n                break\n    sent_topics_df.columns = ['Dominant_Topic', 'Perc_Contribution', 'Topic_Keywords']\n\n        # Add original text to the end of the output\n    contents = pd.Series(texts)\n    sent_topics_df = pd.concat([sent_topics_df, contents], axis=1)\n    return(sent_topics_df)\n",
   "outputs": [],
   "execution_count": null
  },
  {
   "cell_type": "code",
   "metadata": {
    "cell_id": "28c7f99ac85c4113996a49bd391dc8aa",
    "tags": [],
    "deepnote_to_be_reexecuted": false,
    "source_hash": "11d7bc84",
    "execution_start": 1653814061470,
    "execution_millis": 464410,
    "deepnote_cell_type": "code",
    "deepnote_cell_height": 81
   },
   "source": "df_topic_sents_keywords = format_topics_sentences(ldamodel=lda_model, corpus=corpus, texts=texts)",
   "outputs": [],
   "execution_count": null
  },
  {
   "cell_type": "code",
   "metadata": {
    "cell_id": "c4c7b65e40bd4b0aaba5bcb720ddc805",
    "tags": [],
    "deepnote_to_be_reexecuted": false,
    "source_hash": "55cb3693",
    "execution_start": 1653814525880,
    "execution_millis": 1012,
    "deepnote_cell_type": "code",
    "deepnote_cell_height": 672
   },
   "source": "# Format\ndf_dominant_topic = df_topic_sents_keywords.reset_index()\ndf_dominant_topic.columns = ['Document_No', 'Dominant_Topic', 'Topic_Perc_Contrib', 'Keywords', 'Text']\ndf_dominant_topic.head(10)\n",
   "outputs": [
    {
     "output_type": "execute_result",
     "execution_count": 18,
     "data": {
      "application/vnd.deepnote.dataframe.v3+json": {
       "column_count": 5,
       "row_count": 10,
       "columns": [
        {
         "name": "Document_No",
         "dtype": "int64",
         "stats": {
          "unique_count": 10,
          "nan_count": 0,
          "min": "0",
          "max": "9",
          "histogram": [
           {
            "bin_start": 0,
            "bin_end": 0.9,
            "count": 1
           },
           {
            "bin_start": 0.9,
            "bin_end": 1.8,
            "count": 1
           },
           {
            "bin_start": 1.8,
            "bin_end": 2.7,
            "count": 1
           },
           {
            "bin_start": 2.7,
            "bin_end": 3.6,
            "count": 1
           },
           {
            "bin_start": 3.6,
            "bin_end": 4.5,
            "count": 1
           },
           {
            "bin_start": 4.5,
            "bin_end": 5.4,
            "count": 1
           },
           {
            "bin_start": 5.4,
            "bin_end": 6.3,
            "count": 1
           },
           {
            "bin_start": 6.3,
            "bin_end": 7.2,
            "count": 1
           },
           {
            "bin_start": 7.2,
            "bin_end": 8.1,
            "count": 1
           },
           {
            "bin_start": 8.1,
            "bin_end": 9,
            "count": 1
           }
          ]
         }
        },
        {
         "name": "Dominant_Topic",
         "dtype": "float64",
         "stats": {
          "unique_count": 4,
          "nan_count": 0,
          "min": "0.0",
          "max": "3.0",
          "histogram": [
           {
            "bin_start": 0,
            "bin_end": 0.3,
            "count": 1
           },
           {
            "bin_start": 0.3,
            "bin_end": 0.6,
            "count": 0
           },
           {
            "bin_start": 0.6,
            "bin_end": 0.8999999999999999,
            "count": 0
           },
           {
            "bin_start": 0.8999999999999999,
            "bin_end": 1.2,
            "count": 2
           },
           {
            "bin_start": 1.2,
            "bin_end": 1.5,
            "count": 0
           },
           {
            "bin_start": 1.5,
            "bin_end": 1.7999999999999998,
            "count": 0
           },
           {
            "bin_start": 1.7999999999999998,
            "bin_end": 2.1,
            "count": 3
           },
           {
            "bin_start": 2.1,
            "bin_end": 2.4,
            "count": 0
           },
           {
            "bin_start": 2.4,
            "bin_end": 2.6999999999999997,
            "count": 0
           },
           {
            "bin_start": 2.6999999999999997,
            "bin_end": 3,
            "count": 4
           }
          ]
         }
        },
        {
         "name": "Topic_Perc_Contrib",
         "dtype": "float64",
         "stats": {
          "unique_count": 10,
          "nan_count": 0,
          "min": "0.4178999960422516",
          "max": "0.9628000259399414",
          "histogram": [
           {
            "bin_start": 0.4178999960422516,
            "bin_end": 0.47238999903202056,
            "count": 1
           },
           {
            "bin_start": 0.47238999903202056,
            "bin_end": 0.5268800020217895,
            "count": 1
           },
           {
            "bin_start": 0.5268800020217895,
            "bin_end": 0.5813700050115586,
            "count": 3
           },
           {
            "bin_start": 0.5813700050115586,
            "bin_end": 0.6358600080013275,
            "count": 1
           },
           {
            "bin_start": 0.6358600080013275,
            "bin_end": 0.6903500109910965,
            "count": 0
           },
           {
            "bin_start": 0.6903500109910965,
            "bin_end": 0.7448400139808655,
            "count": 1
           },
           {
            "bin_start": 0.7448400139808655,
            "bin_end": 0.7993300169706345,
            "count": 0
           },
           {
            "bin_start": 0.7993300169706345,
            "bin_end": 0.8538200199604035,
            "count": 1
           },
           {
            "bin_start": 0.8538200199604035,
            "bin_end": 0.9083100229501724,
            "count": 0
           },
           {
            "bin_start": 0.9083100229501724,
            "bin_end": 0.9628000259399414,
            "count": 2
           }
          ]
         }
        },
        {
         "name": "Keywords",
         "dtype": "object",
         "stats": {
          "unique_count": 4,
          "nan_count": 0,
          "categories": [
           {
            "name": "food, covid, people, paper, need, stock, toilet, buying, panic, supply",
            "count": 4
           },
           {
            "name": "consumer, covid, pandemic, demand, business, online, new, coronavirus, crisis, impact",
            "count": 3
           },
           {
            "name": "2 others",
            "count": 3
           }
          ]
         }
        },
        {
         "name": "Text",
         "dtype": "object",
         "stats": {
          "unique_count": 10,
          "nan_count": 1,
          "categories": [
           {
            "name": "['advice', 'talk', 'neighbour', 'family', 'exchange', 'phone', 'number', 'create', 'contact', 'list', 'phone', 'number', 'neighbour', 'school', 'employer', 'chemist', 'gp', 'set', 'online', 'shopping', 'account', 'po', 'adequate', 'supply', 'regular', 'med', 'order']",
            "count": 1
           },
           {
            "name": "8 others",
            "count": 8
           },
           {
            "name": "Missing",
            "count": 1
           }
          ]
         }
        },
        {
         "name": "_deepnote_index_column",
         "dtype": "int64"
        }
       ],
       "rows": [
        {
         "Document_No": 0,
         "Dominant_Topic": 2,
         "Topic_Perc_Contrib": 0.49799999594688416,
         "Keywords": "consumer, covid, pandemic, demand, business, online, new, coronavirus, crisis, impact",
         "Text": "nan",
         "_deepnote_index_column": 0
        },
        {
         "Document_No": 1,
         "Dominant_Topic": 2,
         "Topic_Perc_Contrib": 0.5616999864578247,
         "Keywords": "consumer, covid, pandemic, demand, business, online, new, coronavirus, crisis, impact",
         "Text": "['advice', 'talk', 'neighbour', 'family', 'exchange', 'phone', 'number', 'create', 'contact', 'list', 'phone', 'number', 'neighbour', 'school', 'employer', 'chemist', 'gp', 'set', 'online', 'shopping', 'account', 'po', 'adequate', 'supply', 'regular', 'med', 'order']",
         "_deepnote_index_column": 1
        },
        {
         "Document_No": 2,
         "Dominant_Topic": 3,
         "Topic_Perc_Contrib": 0.8174999952316284,
         "Keywords": "food, covid, people, paper, need, stock, toilet, buying, panic, supply",
         "Text": "['coronavirus', 'australia', 'woolworth', 'give', 'elderly', 'disabled', 'dedicated', 'shopping', 'hour', 'amid', 'covid', 'outbreak']",
         "_deepnote_index_column": 2
        },
        {
         "Document_No": 3,
         "Dominant_Topic": 3,
         "Topic_Perc_Contrib": 0.6255999803543091,
         "Keywords": "food, covid, people, paper, need, stock, toilet, buying, panic, supply",
         "Text": "['food', 'stock', 'one', 'empty', 'please', 'panic', 'enough', 'food', 'everyone', 'take', 'need', 'stay', 'calm', 'stay', 'safe']",
         "_deepnote_index_column": 3
        },
        {
         "Document_No": 4,
         "Dominant_Topic": 3,
         "Topic_Perc_Contrib": 0.5673999786376953,
         "Keywords": "food, covid, people, paper, need, stock, toilet, buying, panic, supply",
         "Text": "['ready', 'go', 'supermarket', 'outbreak', 'paranoid', 'food', 'stock', 'litteraly', 'empty', 'serious', 'thing', 'please', 'panic', 'cause', 'shortage']",
         "_deepnote_index_column": 4
        },
        {
         "Document_No": 5,
         "Dominant_Topic": 1,
         "Topic_Perc_Contrib": 0.4178999960422516,
         "Keywords": "store, grocery, supermarket, people, covid, worker, go, like, going, work",
         "Text": "['news', 'region', 'first', 'confirmed', 'covid', 'case', 'came', 'sullivan', 'county', 'last', 'week', 'people', 'flocked', 'area', 'store', 'purchase', 'cleaning', 'supply', 'hand', 'sanitizer', 'food', 'toilet', 'paper', 'good', 'report']",
         "_deepnote_index_column": 5
        },
        {
         "Document_No": 6,
         "Dominant_Topic": 3,
         "Topic_Perc_Contrib": 0.7181000113487244,
         "Keywords": "food, covid, people, paper, need, stock, toilet, buying, panic, supply",
         "Text": "['cashier', 'grocery', 'store', 'sharing', 'insight', 'prove', 'credibility', 'commented', 'civics', 'class', 'know', 'talking']",
         "_deepnote_index_column": 6
        },
        {
         "Document_No": 7,
         "Dominant_Topic": 2,
         "Topic_Perc_Contrib": 0.5303999781608582,
         "Keywords": "consumer, covid, pandemic, demand, business, online, new, coronavirus, crisis, impact",
         "Text": "['supermarket', 'today', 'buy', 'toilet', 'paper']",
         "_deepnote_index_column": 7
        },
        {
         "Document_No": 8,
         "Dominant_Topic": 0,
         "Topic_Perc_Contrib": 0.9628000259399414,
         "Keywords": "hand, sanitizer, shopping, online, mask, grocery, supermarket, store, covid, home",
         "Text": "['due', 'covid', 'retail', 'store', 'classroom', 'atlanta', 'open', 'walk', 'business', 'class', 'next', 'two', 'week', 'beginning', 'monday', 'march', 'continue', 'process', 'online', 'phone', 'order', 'normal', 'thank', 'understanding']",
         "_deepnote_index_column": 8
        },
        {
         "Document_No": 9,
         "Dominant_Topic": 1,
         "Topic_Perc_Contrib": 0.9503999948501587,
         "Keywords": "store, grocery, supermarket, people, covid, worker, go, like, going, work",
         "Text": "['corona', 'prevention', 'stop', 'buy', 'thing', 'cash', 'use', 'online', 'payment', 'method', 'corona', 'spread', 'note', 'also', 'prefer', 'online', 'shopping', 'home', 'time', 'fight', 'covid']",
         "_deepnote_index_column": 9
        }
       ]
      },
      "text/plain": "   Document_No  Dominant_Topic  Topic_Perc_Contrib  \\\n0            0             2.0              0.4980   \n1            1             2.0              0.5617   \n2            2             3.0              0.8175   \n3            3             3.0              0.6256   \n4            4             3.0              0.5674   \n5            5             1.0              0.4179   \n6            6             3.0              0.7181   \n7            7             2.0              0.5304   \n8            8             0.0              0.9628   \n9            9             1.0              0.9504   \n\n                                            Keywords  \\\n0  consumer, covid, pandemic, demand, business, o...   \n1  consumer, covid, pandemic, demand, business, o...   \n2  food, covid, people, paper, need, stock, toile...   \n3  food, covid, people, paper, need, stock, toile...   \n4  food, covid, people, paper, need, stock, toile...   \n5  store, grocery, supermarket, people, covid, wo...   \n6  food, covid, people, paper, need, stock, toile...   \n7  consumer, covid, pandemic, demand, business, o...   \n8  hand, sanitizer, shopping, online, mask, groce...   \n9  store, grocery, supermarket, people, covid, wo...   \n\n                                                Text  \n0                                                NaN  \n1  [advice, talk, neighbour, family, exchange, ph...  \n2  [coronavirus, australia, woolworth, give, elde...  \n3  [food, stock, one, empty, please, panic, enoug...  \n4  [ready, go, supermarket, outbreak, paranoid, f...  \n5  [news, region, first, confirmed, covid, case, ...  \n6  [cashier, grocery, store, sharing, insight, pr...  \n7           [supermarket, today, buy, toilet, paper]  \n8  [due, covid, retail, store, classroom, atlanta...  \n9  [corona, prevention, stop, buy, thing, cash, u...  ",
      "text/html": "<div>\n<style scoped>\n    .dataframe tbody tr th:only-of-type {\n        vertical-align: middle;\n    }\n\n    .dataframe tbody tr th {\n        vertical-align: top;\n    }\n\n    .dataframe thead th {\n        text-align: right;\n    }\n</style>\n<table border=\"1\" class=\"dataframe\">\n  <thead>\n    <tr style=\"text-align: right;\">\n      <th></th>\n      <th>Document_No</th>\n      <th>Dominant_Topic</th>\n      <th>Topic_Perc_Contrib</th>\n      <th>Keywords</th>\n      <th>Text</th>\n    </tr>\n  </thead>\n  <tbody>\n    <tr>\n      <th>0</th>\n      <td>0</td>\n      <td>2.0</td>\n      <td>0.4980</td>\n      <td>consumer, covid, pandemic, demand, business, o...</td>\n      <td>NaN</td>\n    </tr>\n    <tr>\n      <th>1</th>\n      <td>1</td>\n      <td>2.0</td>\n      <td>0.5617</td>\n      <td>consumer, covid, pandemic, demand, business, o...</td>\n      <td>[advice, talk, neighbour, family, exchange, ph...</td>\n    </tr>\n    <tr>\n      <th>2</th>\n      <td>2</td>\n      <td>3.0</td>\n      <td>0.8175</td>\n      <td>food, covid, people, paper, need, stock, toile...</td>\n      <td>[coronavirus, australia, woolworth, give, elde...</td>\n    </tr>\n    <tr>\n      <th>3</th>\n      <td>3</td>\n      <td>3.0</td>\n      <td>0.6256</td>\n      <td>food, covid, people, paper, need, stock, toile...</td>\n      <td>[food, stock, one, empty, please, panic, enoug...</td>\n    </tr>\n    <tr>\n      <th>4</th>\n      <td>4</td>\n      <td>3.0</td>\n      <td>0.5674</td>\n      <td>food, covid, people, paper, need, stock, toile...</td>\n      <td>[ready, go, supermarket, outbreak, paranoid, f...</td>\n    </tr>\n    <tr>\n      <th>5</th>\n      <td>5</td>\n      <td>1.0</td>\n      <td>0.4179</td>\n      <td>store, grocery, supermarket, people, covid, wo...</td>\n      <td>[news, region, first, confirmed, covid, case, ...</td>\n    </tr>\n    <tr>\n      <th>6</th>\n      <td>6</td>\n      <td>3.0</td>\n      <td>0.7181</td>\n      <td>food, covid, people, paper, need, stock, toile...</td>\n      <td>[cashier, grocery, store, sharing, insight, pr...</td>\n    </tr>\n    <tr>\n      <th>7</th>\n      <td>7</td>\n      <td>2.0</td>\n      <td>0.5304</td>\n      <td>consumer, covid, pandemic, demand, business, o...</td>\n      <td>[supermarket, today, buy, toilet, paper]</td>\n    </tr>\n    <tr>\n      <th>8</th>\n      <td>8</td>\n      <td>0.0</td>\n      <td>0.9628</td>\n      <td>hand, sanitizer, shopping, online, mask, groce...</td>\n      <td>[due, covid, retail, store, classroom, atlanta...</td>\n    </tr>\n    <tr>\n      <th>9</th>\n      <td>9</td>\n      <td>1.0</td>\n      <td>0.9504</td>\n      <td>store, grocery, supermarket, people, covid, wo...</td>\n      <td>[corona, prevention, stop, buy, thing, cash, u...</td>\n    </tr>\n  </tbody>\n</table>\n</div>"
     },
     "metadata": {}
    }
   ],
   "execution_count": null
  },
  {
   "cell_type": "code",
   "metadata": {
    "cell_id": "733f262cbbae466e843d76d661ee1c02",
    "tags": [],
    "deepnote_to_be_reexecuted": false,
    "source_hash": "35c2c1da",
    "execution_start": 1653814526911,
    "execution_millis": 112,
    "deepnote_cell_type": "code",
    "deepnote_cell_height": 243
   },
   "source": "# Display setting to show more characters in column\npd.options.display.max_colwidth = 100\n\nsent_topics_sorteddf_mallet = pd.DataFrame()\nsent_topics_outdf_grpd = df_topic_sents_keywords.groupby('Dominant_Topic')\n\nfor i, grp in sent_topics_outdf_grpd:\n    sent_topics_sorteddf_mallet = pd.concat([sent_topics_sorteddf_mallet, \n                                             grp.sort_values(['Perc_Contribution'], ascending=False).head(1)], \n                                            axis=0)",
   "outputs": [],
   "execution_count": null
  },
  {
   "cell_type": "markdown",
   "source": "### The most representative sentence for each topic ",
   "metadata": {
    "cell_id": "69f3a2bcf20c4a728e890efc646c9504",
    "tags": [],
    "is_collapsed": false,
    "deepnote_cell_type": "text-cell-h3"
   }
  },
  {
   "cell_type": "code",
   "metadata": {
    "cell_id": "f70d410247a64715b5e28fe91275b129",
    "tags": [],
    "deepnote_to_be_reexecuted": false,
    "source_hash": "6a0917d6",
    "execution_start": 1653814527035,
    "execution_millis": 133,
    "deepnote_cell_type": "code",
    "deepnote_cell_height": 521
   },
   "source": "# Reset Index    \nsent_topics_sorteddf_mallet.reset_index(drop=True, inplace=True)\n\n# Format\nsent_topics_sorteddf_mallet.columns = ['Topic_Num', \"Topic_Perc_Contrib\", \"Keywords\", \"Representative Text\"]\n\n# Show\nsent_topics_sorteddf_mallet.head(10)",
   "outputs": [
    {
     "output_type": "execute_result",
     "execution_count": 20,
     "data": {
      "application/vnd.deepnote.dataframe.v3+json": {
       "column_count": 4,
       "row_count": 5,
       "columns": [
        {
         "name": "Topic_Num",
         "dtype": "float64",
         "stats": {
          "unique_count": 5,
          "nan_count": 0,
          "min": "0.0",
          "max": "4.0",
          "histogram": [
           {
            "bin_start": 0,
            "bin_end": 0.4,
            "count": 1
           },
           {
            "bin_start": 0.4,
            "bin_end": 0.8,
            "count": 0
           },
           {
            "bin_start": 0.8,
            "bin_end": 1.2000000000000002,
            "count": 1
           },
           {
            "bin_start": 1.2000000000000002,
            "bin_end": 1.6,
            "count": 0
           },
           {
            "bin_start": 1.6,
            "bin_end": 2,
            "count": 0
           },
           {
            "bin_start": 2,
            "bin_end": 2.4000000000000004,
            "count": 1
           },
           {
            "bin_start": 2.4000000000000004,
            "bin_end": 2.8000000000000003,
            "count": 0
           },
           {
            "bin_start": 2.8000000000000003,
            "bin_end": 3.2,
            "count": 1
           },
           {
            "bin_start": 3.2,
            "bin_end": 3.6,
            "count": 0
           },
           {
            "bin_start": 3.6,
            "bin_end": 4,
            "count": 1
           }
          ]
         }
        },
        {
         "name": "Topic_Perc_Contrib",
         "dtype": "float64",
         "stats": {
          "unique_count": 4,
          "nan_count": 0,
          "min": "0.9689000248908997",
          "max": "0.9731000065803528",
          "histogram": [
           {
            "bin_start": 0.9689000248908997,
            "bin_end": 0.969320023059845,
            "count": 2
           },
           {
            "bin_start": 0.969320023059845,
            "bin_end": 0.9697400212287903,
            "count": 0
           },
           {
            "bin_start": 0.9697400212287903,
            "bin_end": 0.9701600193977356,
            "count": 0
           },
           {
            "bin_start": 0.9701600193977356,
            "bin_end": 0.9705800175666809,
            "count": 0
           },
           {
            "bin_start": 0.9705800175666809,
            "bin_end": 0.9710000157356262,
            "count": 1
           },
           {
            "bin_start": 0.9710000157356262,
            "bin_end": 0.9714200139045716,
            "count": 0
           },
           {
            "bin_start": 0.9714200139045716,
            "bin_end": 0.9718400120735169,
            "count": 0
           },
           {
            "bin_start": 0.9718400120735169,
            "bin_end": 0.9722600102424621,
            "count": 0
           },
           {
            "bin_start": 0.9722600102424621,
            "bin_end": 0.9726800084114074,
            "count": 0
           },
           {
            "bin_start": 0.9726800084114074,
            "bin_end": 0.9731000065803528,
            "count": 2
           }
          ]
         }
        },
        {
         "name": "Keywords",
         "dtype": "object",
         "stats": {
          "unique_count": 5,
          "nan_count": 0,
          "categories": [
           {
            "name": "hand, sanitizer, shopping, online, mask, grocery, supermarket, store, covid, home",
            "count": 1
           },
           {
            "name": "store, grocery, supermarket, people, covid, worker, go, like, going, work",
            "count": 1
           },
           {
            "name": "3 others",
            "count": 3
           }
          ]
         }
        },
        {
         "name": "Representative Text",
         "dtype": "object",
         "stats": {
          "unique_count": 5,
          "nan_count": 0,
          "categories": [
           {
            "name": "['covid', 'may', 'affect', 'retail', 'store', 'prepare', 'guest', 'post', 'vend']",
            "count": 1
           },
           {
            "name": "['walmart', 'cut', 'store', 'hour', 'restocking', 'retail', 'giant', 'reduced', 'store', 'operating', 'hour', 'give', 'employee', 'time', 'restock', 'shelf', 'clean', 'sanitize', 'store']",
            "count": 1
           },
           {
            "name": "3 others",
            "count": 3
           }
          ]
         }
        },
        {
         "name": "_deepnote_index_column",
         "dtype": "int64"
        }
       ],
       "rows": [
        {
         "Topic_Num": 0,
         "Topic_Perc_Contrib": 0.9689000248908997,
         "Keywords": "hand, sanitizer, shopping, online, mask, grocery, supermarket, store, covid, home",
         "Representative Text": "['covid', 'may', 'affect', 'retail', 'store', 'prepare', 'guest', 'post', 'vend']",
         "_deepnote_index_column": 0
        },
        {
         "Topic_Num": 1,
         "Topic_Perc_Contrib": 0.9731000065803528,
         "Keywords": "store, grocery, supermarket, people, covid, worker, go, like, going, work",
         "Representative Text": "['walmart', 'cut', 'store', 'hour', 'restocking', 'retail', 'giant', 'reduced', 'store', 'operating', 'hour', 'give', 'employee', 'time', 'restock', 'shelf', 'clean', 'sanitize', 'store']",
         "_deepnote_index_column": 1
        },
        {
         "Topic_Num": 2,
         "Topic_Perc_Contrib": 0.9689000248908997,
         "Keywords": "consumer, covid, pandemic, demand, business, online, new, coronavirus, crisis, impact",
         "Representative Text": "['alien', 'anthropologist', 'survey', 'archive', 'earth', 'search', 'hell', 'happened', 'sloat', 'essay', 'might', 'single', 'best', 'thing', 'could', 'read', 'get', 'glimpse', 'humanity', 'time']",
         "_deepnote_index_column": 2
        },
        {
         "Topic_Num": 3,
         "Topic_Perc_Contrib": 0.9729999899864197,
         "Keywords": "food, covid, people, paper, need, stock, toilet, buying, panic, supply",
         "Representative Text": "['supermarket', 'staff', 'getting', 'bonus', 'working']",
         "_deepnote_index_column": 3
        },
        {
         "Topic_Num": 4,
         "Topic_Perc_Contrib": 0.9708999991416931,
         "Keywords": "price, covid, oil, market, low, demand, food, cut, people, gas",
         "Representative Text": "['let', 'remember', 'regularly', 'check', 'colleague', 'employee', 'today']",
         "_deepnote_index_column": 4
        }
       ]
      },
      "text/plain": "   Topic_Num  Topic_Perc_Contrib  \\\n0        0.0              0.9689   \n1        1.0              0.9731   \n2        2.0              0.9689   \n3        3.0              0.9730   \n4        4.0              0.9709   \n\n                                                                                Keywords  \\\n0      hand, sanitizer, shopping, online, mask, grocery, supermarket, store, covid, home   \n1              store, grocery, supermarket, people, covid, worker, go, like, going, work   \n2  consumer, covid, pandemic, demand, business, online, new, coronavirus, crisis, impact   \n3                 food, covid, people, paper, need, stock, toilet, buying, panic, supply   \n4                         price, covid, oil, market, low, demand, food, cut, people, gas   \n\n                                                                                   Representative Text  \n0                                      [covid, may, affect, retail, store, prepare, guest, post, vend]  \n1  [walmart, cut, store, hour, restocking, retail, giant, reduced, store, operating, hour, give, em...  \n2  [alien, anthropologist, survey, archive, earth, search, hell, happened, sloat, essay, might, sin...  \n3                                                        [supermarket, staff, getting, bonus, working]  \n4                                        [let, remember, regularly, check, colleague, employee, today]  ",
      "text/html": "<div>\n<style scoped>\n    .dataframe tbody tr th:only-of-type {\n        vertical-align: middle;\n    }\n\n    .dataframe tbody tr th {\n        vertical-align: top;\n    }\n\n    .dataframe thead th {\n        text-align: right;\n    }\n</style>\n<table border=\"1\" class=\"dataframe\">\n  <thead>\n    <tr style=\"text-align: right;\">\n      <th></th>\n      <th>Topic_Num</th>\n      <th>Topic_Perc_Contrib</th>\n      <th>Keywords</th>\n      <th>Representative Text</th>\n    </tr>\n  </thead>\n  <tbody>\n    <tr>\n      <th>0</th>\n      <td>0.0</td>\n      <td>0.9689</td>\n      <td>hand, sanitizer, shopping, online, mask, grocery, supermarket, store, covid, home</td>\n      <td>[covid, may, affect, retail, store, prepare, guest, post, vend]</td>\n    </tr>\n    <tr>\n      <th>1</th>\n      <td>1.0</td>\n      <td>0.9731</td>\n      <td>store, grocery, supermarket, people, covid, worker, go, like, going, work</td>\n      <td>[walmart, cut, store, hour, restocking, retail, giant, reduced, store, operating, hour, give, em...</td>\n    </tr>\n    <tr>\n      <th>2</th>\n      <td>2.0</td>\n      <td>0.9689</td>\n      <td>consumer, covid, pandemic, demand, business, online, new, coronavirus, crisis, impact</td>\n      <td>[alien, anthropologist, survey, archive, earth, search, hell, happened, sloat, essay, might, sin...</td>\n    </tr>\n    <tr>\n      <th>3</th>\n      <td>3.0</td>\n      <td>0.9730</td>\n      <td>food, covid, people, paper, need, stock, toilet, buying, panic, supply</td>\n      <td>[supermarket, staff, getting, bonus, working]</td>\n    </tr>\n    <tr>\n      <th>4</th>\n      <td>4.0</td>\n      <td>0.9709</td>\n      <td>price, covid, oil, market, low, demand, food, cut, people, gas</td>\n      <td>[let, remember, regularly, check, colleague, employee, today]</td>\n    </tr>\n  </tbody>\n</table>\n</div>"
     },
     "metadata": {}
    }
   ],
   "execution_count": null
  },
  {
   "cell_type": "markdown",
   "source": "### Word cloud&nbsp;of&nbsp;Top&nbsp;N&nbsp;words&nbsp;in&nbsp;each&nbsp;topic",
   "metadata": {
    "cell_id": "6503f5ef9c124c17bd0e2b40afcad537",
    "tags": [],
    "is_collapsed": false,
    "deepnote_cell_type": "text-cell-h3"
   }
  },
  {
   "cell_type": "code",
   "metadata": {
    "cell_id": "78daa7018aa24d88bd9d8a1d576283a3",
    "tags": [],
    "deepnote_to_be_reexecuted": false,
    "source_hash": "5f6391d1",
    "execution_start": 1653814527182,
    "execution_millis": 13669,
    "deepnote_cell_type": "code",
    "deepnote_cell_height": 1265,
    "deepnote_output_heights": [
     610
    ]
   },
   "source": "from matplotlib import pyplot as plt\nfrom wordcloud import WordCloud, STOPWORDS\nimport matplotlib.colors as mcolors\n\ncols = [color for name, color in mcolors.TABLEAU_COLORS.items()] \ncloud = WordCloud(\n                  background_color='white',\n                  width=2500,\n                  height=1800,\n                  max_words=10,\n                  colormap='tab11',\n                  color_func=lambda *args, **kwargs: cols[i],\n                  prefer_horizontal=1.0)\n\ntopics = lda_model.show_topics(formatted=False)\n\nfig, axes = plt.subplots(2, 2, figsize=(10,10), sharex=True, sharey=True)\n\nfor i, ax in enumerate(axes.flatten()):\n    fig.add_subplot(ax)\n    topic_words = dict(topics[i][1])\n    cloud.generate_from_frequencies(topic_words, max_font_size=300)\n    plt.gca().imshow(cloud)\n    plt.gca().set_title('Topic ' + str(i), fontdict=dict(size=16))\n    plt.gca().axis('off')\n\nplt.subplots_adjust(wspace=0, hspace=0)\nplt.axis('off')\nplt.margins(x=0, y=0)\nplt.tight_layout()\nplt.savefig(\"cloud.png\")\nplt.show()",
   "outputs": [
    {
     "data": {
      "text/plain": "<Figure size 720x720 with 4 Axes>",
      "image/png": "[encoded data removed]"
     },
     "metadata": {
      "needs_background": "light",
      "image/png": {
       "width": 712,
       "height": 608
      }
     },
     "output_type": "display_data"
    }
   ],
   "execution_count": null
  },
  {
   "cell_type": "code",
   "metadata": {
    "cell_id": "5935df541eb948cc938a3f091aa20780",
    "tags": [],
    "deepnote_to_be_reexecuted": false,
    "source_hash": "9e48dca8",
    "execution_start": 1653814540868,
    "execution_millis": 64545,
    "is_output_hidden": true,
    "deepnote_cell_type": "code",
    "deepnote_cell_height": 111.78125
   },
   "source": "pip install pyLDAvis",
   "outputs": [
    {
     "name": "stdout",
     "text": "Collecting pyLDAvis\n  Downloading pyLDAvis-3.3.1.tar.gz (1.7 MB)\n\u001b[2K     \u001b[90m━━━━━━━━━━━━━━━━━━━━━━━━━━━━━━━━━━━━━━━━\u001b[0m \u001b[32m1.7/1.7 MB\u001b[0m \u001b[31m23.2 MB/s\u001b[0m eta \u001b[36m0:00:00\u001b[0m\n\u001b[?25h  Installing build dependencies ... \u001b[?25ldone\n\u001b[?25h  Getting requirements to build wheel ... \u001b[?25ldone\n\u001b[?25h  Installing backend dependencies ... \u001b[?25ldone\n\u001b[?25h  Preparing metadata (pyproject.toml) ... \u001b[?25ldone\n\u001b[?25hRequirement already satisfied: jinja2 in /shared-libs/python3.8/py-core/lib/python3.8/site-packages (from pyLDAvis) (2.11.3)\nCollecting numexpr\n  Downloading numexpr-2.8.1-cp38-cp38-manylinux_2_17_x86_64.manylinux2014_x86_64.whl (381 kB)\n\u001b[2K     \u001b[90m━━━━━━━━━━━━━━━━━━━━━━━━━━━━━━━━━━━━━━\u001b[0m \u001b[32m381.5/381.5 kB\u001b[0m \u001b[31m29.1 MB/s\u001b[0m eta \u001b[36m0:00:00\u001b[0m\n\u001b[?25hRequirement already satisfied: pandas>=1.2.0 in /shared-libs/python3.8/py/lib/python3.8/site-packages (from pyLDAvis) (1.2.5)\nCollecting sklearn\n  Downloading sklearn-0.0.tar.gz (1.1 kB)\n  Preparing metadata (setup.py) ... \u001b[?25ldone\n\u001b[?25hRequirement already satisfied: numpy>=1.20.0 in /shared-libs/python3.8/py/lib/python3.8/site-packages (from pyLDAvis) (1.22.3)\nRequirement already satisfied: setuptools in /root/venv/lib/python3.8/site-packages (from pyLDAvis) (56.0.0)\nRequirement already satisfied: future in /shared-libs/python3.8/py/lib/python3.8/site-packages (from pyLDAvis) (0.18.2)\nRequirement already satisfied: scipy in /shared-libs/python3.8/py/lib/python3.8/site-packages (from pyLDAvis) (1.8.0)\nCollecting funcy\n  Downloading funcy-1.17-py2.py3-none-any.whl (33 kB)\nRequirement already satisfied: scikit-learn in /root/venv/lib/python3.8/site-packages (from pyLDAvis) (1.1.1)\nRequirement already satisfied: gensim in /usr/local/lib/python3.8/site-packages (from pyLDAvis) (4.2.0)\nRequirement already satisfied: joblib in /shared-libs/python3.8/py/lib/python3.8/site-packages (from pyLDAvis) (1.1.0)\nRequirement already satisfied: pytz>=2017.3 in /shared-libs/python3.8/py/lib/python3.8/site-packages (from pandas>=1.2.0->pyLDAvis) (2022.1)\nRequirement already satisfied: python-dateutil>=2.7.3 in /shared-libs/python3.8/py-core/lib/python3.8/site-packages (from pandas>=1.2.0->pyLDAvis) (2.8.2)\nRequirement already satisfied: smart-open>=1.8.1 in /shared-libs/python3.8/py/lib/python3.8/site-packages (from gensim->pyLDAvis) (5.2.1)\nRequirement already satisfied: MarkupSafe>=0.23 in /shared-libs/python3.8/py-core/lib/python3.8/site-packages (from jinja2->pyLDAvis) (2.0.1)\nRequirement already satisfied: packaging in /shared-libs/python3.8/py/lib/python3.8/site-packages (from numexpr->pyLDAvis) (21.3)\nRequirement already satisfied: threadpoolctl>=2.0.0 in /shared-libs/python3.8/py/lib/python3.8/site-packages (from scikit-learn->pyLDAvis) (3.1.0)\nRequirement already satisfied: six>=1.5 in /shared-libs/python3.8/py-core/lib/python3.8/site-packages (from python-dateutil>=2.7.3->pandas>=1.2.0->pyLDAvis) (1.16.0)\nRequirement already satisfied: pyparsing!=3.0.5,>=2.0.2 in /shared-libs/python3.8/py/lib/python3.8/site-packages (from packaging->numexpr->pyLDAvis) (3.0.8)\nBuilding wheels for collected packages: pyLDAvis, sklearn\n  Building wheel for pyLDAvis (pyproject.toml) ... \u001b[?25ldone\n\u001b[?25h  Created wheel for pyLDAvis: filename=pyLDAvis-3.3.1-py2.py3-none-any.whl size=136882 sha256=de81681a61d1ada2b8d373cb21ad47d08f7525be4bb2254cb06d9d8b68ce8f7a\n  Stored in directory: /root/.cache/pip/wheels/90/61/ec/9dbe9efc3acf9c4e37ba70fbbcc3f3a0ebd121060aa593181a\n  Building wheel for sklearn (setup.py) ... \u001b[?25ldone\n\u001b[?25h  Created wheel for sklearn: filename=sklearn-0.0-py2.py3-none-any.whl size=1317 sha256=1ba657de053d7ace38af133930c112e78801a705dcc9ab4e239c1b62cbc5afce\n  Stored in directory: /root/.cache/pip/wheels/22/0b/40/fd3f795caaa1fb4c6cb738bc1f56100be1e57da95849bfc897\nSuccessfully built pyLDAvis sklearn\nInstalling collected packages: funcy, numexpr, sklearn, pyLDAvis\nSuccessfully installed funcy-1.17 numexpr-2.8.1 pyLDAvis-3.3.1 sklearn-0.0\n\u001b[33mWARNING: Running pip as the 'root' user can result in broken permissions and conflicting behaviour with the system package manager. It is recommended to use a virtual environment instead: https://pip.pypa.io/warnings/venv\u001b[0m\u001b[33m\n\u001b[0mNote: you may need to restart the kernel to use updated packages.\n",
     "output_type": "stream"
    }
   ],
   "execution_count": null
  },
  {
   "cell_type": "markdown",
   "source": "### pyLDAvis",
   "metadata": {
    "cell_id": "096af05156f74af39af32b1d7707fca4",
    "tags": [],
    "is_collapsed": false,
    "deepnote_cell_type": "text-cell-h3"
   }
  },
  {
   "cell_type": "code",
   "metadata": {
    "cell_id": "ca12585c8f5349f9bc906aba5bbfcf51",
    "tags": [],
    "deepnote_to_be_reexecuted": false,
    "source_hash": "31cdb514",
    "execution_start": 1653814605432,
    "execution_millis": 41254,
    "owner_user_id": "b7687959-f6fc-4809-8260-39151ff05d96",
    "deepnote_cell_type": "code",
    "deepnote_cell_height": 811.3125,
    "deepnote_output_heights": [
     606.328125
    ]
   },
   "source": "import pyLDAvis\nimport pyLDAvis.gensim_models as gensimvis\npyLDAvis.enable_notebook()\n\nlda_viz = gensimvis.prepare(lda_model, corpus, id2word)\nlda_viz\n",
   "outputs": [
    {
     "output_type": "execute_result",
     "execution_count": 23,
     "data": {
      "text/plain": "PreparedData(topic_coordinates=              x         y  topics  cluster       Freq\ntopic                                                \n1      0.144890  0.030202       1        1  24.084866\n2     -0.199489  0.159814       2        1  21.095776\n3      0.037300 -0.110745       3        1  19.694736\n4     -0.138892 -0.149169       4        1  17.993573\n0      0.156192  0.069899       5        1  17.131049, topic_info=         Term         Freq         Total Category  logprob  loglift\n311     price  8889.000000   8889.000000  Default  30.0000  30.0000\n172  consumer  5800.000000   5800.000000  Default  29.0000  29.0000\n75      store  7676.000000   7676.000000  Default  28.0000  28.0000\n84    grocery  6682.000000   6682.000000  Default  27.0000  27.0000\n39       food  6581.000000   6581.000000  Default  26.0000  26.0000\n..        ...          ...           ...      ...      ...      ...\n121      time   570.821589   2816.042756   Topic5  -5.2445   0.1683\n27      covid   812.568896  12232.593845   Topic5  -4.8913  -0.9474\n466       day   461.682389   1911.017475   Topic5  -5.4567   0.3438\n314    worker   468.442966   2979.248481   Topic5  -5.4421  -0.0857\n156      help   395.003294   2091.026104   Topic5  -5.6127   0.0978\n\n[408 rows x 6 columns], token_table=      Topic      Freq    Term\nterm                         \n509       1  0.165592  across\n509       2  0.707382  across\n509       3  0.070738  across\n509       4  0.054661  across\n509       5  0.003215  across\n...     ...       ...     ...\n974       1  0.198567    year\n974       2  0.100894    year\n974       3  0.060107    year\n974       4  0.506615    year\n974       5  0.134167    year\n\n[951 rows x 3 columns], R=30, lambda_step=0.01, plot_opts={'xlab': 'PC1', 'ylab': 'PC2'}, topic_order=[2, 3, 4, 5, 1])",
      "text/html": "\n<link rel=\"stylesheet\" type=\"text/css\" href=\"https://cdn.jsdelivr.net/gh/bmabey/pyLDAvis@3.3.1/pyLDAvis/js/ldavis.v1.0.0.css\">\n\n\n<div id=\"ldavis_el1531401515369690888934393399\"></div>\n<script type=\"text/javascript\">\n\nvar ldavis_el1531401515369690888934393399_data = {\"mdsDat\": {\"x\": [0.14489030849497847, -0.1994894167650593, 0.037299796901381375, -0.1388922354793403, 0.15619154684804004], \"y\": [0.030201703575806958, 0.15981379200679616, -0.11074507126100469, -0.14916904115522048, 0.06989861683362193], \"topics\": [1, 2, 3, 4, 5], \"cluster\": [1, 1, 1, 1, 1], \"Freq\": [24.084866333803003, 21.09577611764444, 19.694736090014445, 17.993572880858423, 17.13104857767969]}, \"tinfo\": {\"Term\": [\"price\", \"consumer\", \"store\", \"grocery\", \"food\", \"sanitizer\", \"hand\", \"oil\", \"online\", \"shopping\", \"mask\", \"supermarket\", \"covid\", \"paper\", \"demand\", \"toilet\", \"business\", \"panic\", \"buying\", \"pandemic\", \"market\", \"worker\", \"scam\", \"stock\", \"low\", \"impact\", \"behavior\", \"crisis\", \"cut\", \"people\", \"rising\", \"easter\", \"quality\", \"petrol\", \"international\", \"nigeria\", \"church\", \"session\", \"risking\", \"dump\", \"battle\", \"began\", \"walmart\", \"opinion\", \"mostly\", \"oz\", \"curbside\", \"spoke\", \"liquor\", \"jumped\", \"exposing\", \"flyer\", \"reaching\", \"project\", \"ingredient\", \"houston\", \"gate\", \"commerce\", \"shirt\", \"sun\", \"dying\", \"flour\", \"died\", \"mom\", \"egg\", \"trip\", \"tested\", \"hot\", \"governor\", \"felt\", \"exposed\", \"store\", \"grocery\", \"aisle\", \"went\", \"bus\", \"supermarket\", \"employee\", \"going\", \"shopper\", \"work\", \"worker\", \"positive\", \"line\", \"go\", \"today\", \"like\", \"essential\", \"day\", \"people\", \"got\", \"hour\", \"get\", \"staff\", \"back\", \"still\", \"one\", \"home\", \"know\", \"week\", \"covid\", \"time\", \"customer\", \"local\", \"see\", \"last\", \"would\", \"many\", \"insight\", \"survey\", \"sentiment\", \"agreed\", \"decline\", \"study\", \"behavior\", \"housing\", \"average\", \"expectation\", \"content\", \"guideline\", \"frontline\", \"discus\", \"blog\", \"guidance\", \"inflation\", \"driven\", \"ftc\", \"task\", \"investment\", \"fda\", \"auto\", \"arrested\", \"revenue\", \"search\", \"range\", \"launch\", \"distillery\", \"impacting\", \"consumer\", \"data\", \"research\", \"falling\", \"trend\", \"brand\", \"export\", \"join\", \"business\", \"finance\", \"latest\", \"producer\", \"confidence\", \"russia\", \"habit\", \"impact\", \"support\", \"outbreak\", \"behaviour\", \"program\", \"report\", \"meet\", \"change\", \"pandemic\", \"read\", \"protection\", \"demand\", \"service\", \"industry\", \"covid\", \"new\", \"crisis\", \"response\", \"health\", \"coronavirus\", \"across\", \"spending\", \"online\", \"due\", \"via\", \"retail\", \"help\", \"u\", \"worker\", \"company\", \"shopping\", \"amid\", \"time\", \"price\", \"food\", \"scam\", \"scammer\", \"r\", \"network\", \"discount\", \"attitude\", \"killed\", \"washing\", \"n95\", \"agency\", \"charity\", \"fell\", \"writes\", \"hunger\", \"snap\", \"lesson\", \"university\", \"slash\", \"chicken\", \"equity\", \"hungry\", \"view\", \"agreement\", \"personnel\", \"pricing\", \"window\", \"founder\", \"rt\", \"expensive\", \"forecast\", \"panic\", \"donation\", \"agriculture\", \"fake\", \"toward\", \"buying\", \"toilet\", \"paper\", \"roll\", \"pantry\", \"shortage\", \"food\", \"game\", \"asset\", \"stock\", \"buy\", \"hoarding\", \"supply\", \"need\", \"stop\", \"soap\", \"enough\", \"people\", \"item\", \"product\", \"shelf\", \"cure\", \"please\", \"covid\", \"virus\", \"lockdown\", \"get\", \"supermarket\", \"take\", \"like\", \"hand\", \"coronavirus\", \"help\", \"price\", \"time\", \"world\", \"sanitizer\", \"fall\", \"opec\", \"record\", \"webinar\", \"equipment\", \"credit\", \"meeting\", \"capacity\", \"executive\", \"rent\", \"inventory\", \"analyst\", \"crop\", \"commercial\", \"difference\", \"late\", \"fuel\", \"reasonable\", \"lender\", \"oil\", \"crude\", \"ventilator\", \"bottom\", \"property\", \"booming\", \"outlook\", \"historic\", \"electricity\", \"nose\", \"reduction\", \"bill\", \"commodity\", \"collapse\", \"lower\", \"wonder\", \"negative\", \"production\", \"cut\", \"gold\", \"loss\", \"price\", \"drop\", \"low\", \"gas\", \"touch\", \"market\", \"higher\", \"war\", \"trump\", \"drug\", \"federal\", \"cost\", \"economy\", \"covid\", \"could\", \"year\", \"high\", \"global\", \"demand\", \"crisis\", \"due\", \"company\", \"month\", \"increase\", \"lockdown\", \"people\", \"time\", \"food\", \"pandemic\", \"u\", \"state\", \"would\", \"need\", \"hero\", \"ppe\", \"spike\", \"slow\", \"advertising\", \"adapt\", \"trust\", \"budget\", \"air\", \"shifting\", \"distributor\", \"grow\", \"sir\", \"helpful\", \"surgical\", \"marketer\", \"responder\", \"village\", \"chart\", \"shield\", \"visiting\", \"design\", \"grateful\", \"dy\", \"organisation\", \"passed\", \"helped\", \"balance\", \"delivering\", \"listed\", \"foot\", \"slot\", \"disinfectant\", \"pattern\", \"output\", \"bottle\", \"sanitizer\", \"alcohol\", \"hand\", \"virtual\", \"walk\", \"mask\", \"wuhan\", \"worked\", \"shopping\", \"glove\", \"online\", \"distancing\", \"wash\", \"wear\", \"face\", \"use\", \"stay\", \"social\", \"safe\", \"delivery\", \"thank\", \"wearing\", \"make\", \"grocery\", \"home\", \"supermarket\", \"get\", \"store\", \"first\", \"go\", \"everyone\", \"people\", \"one\", \"need\", \"time\", \"covid\", \"day\", \"worker\", \"help\"], \"Freq\": [8889.0, 5800.0, 7676.0, 6682.0, 6581.0, 3104.0, 3256.0, 1973.0, 3195.0, 3042.0, 2249.0, 6166.0, 12232.0, 1350.0, 2431.0, 1226.0, 1433.0, 1080.0, 1109.0, 3183.0, 1492.0, 2979.0, 767.0, 1719.0, 888.0, 1127.0, 698.0, 1616.0, 657.0, 4679.0, 206.95050300597924, 345.5470167405802, 169.7795474632667, 160.12643816550738, 158.65007610684017, 127.57685370048057, 116.73112651458243, 125.0384362642656, 110.72795116068289, 102.56567840659321, 102.81143480027418, 103.9851429025015, 222.72108739822946, 102.9862706438911, 98.97978631258526, 102.04086987727757, 94.81292291687294, 94.43551510638973, 86.74776643218816, 89.28595369310645, 90.33078133498766, 83.88679372926691, 85.34352891744454, 79.47640486967215, 86.15245343892168, 77.85432414241744, 80.72353003864283, 262.3099813151395, 72.96844181081971, 73.27883319838631, 206.4275624377251, 116.85880298106899, 433.2386700941615, 207.46292633375455, 257.9207862886309, 386.0293626302234, 396.0089136160444, 124.30081296738163, 170.67790394039824, 146.75299669468967, 134.67937282998923, 6044.650888488537, 5103.465375200402, 290.7124443425919, 403.87085187245304, 173.50520022683668, 3642.451971900847, 850.8213122706488, 1184.3815786152315, 441.14600600139124, 1013.0575017938976, 1668.7087181539914, 329.4756463529516, 613.0134027576311, 1298.9835924884637, 864.3132674605662, 1198.6484100885102, 791.2186586020323, 988.322722766837, 1791.7090141364697, 418.69134346319595, 402.4963512354606, 1011.8620775377185, 496.8903197008005, 510.42887653539856, 643.2514960702766, 827.3437861256127, 869.1048089056632, 605.7638724367151, 684.2656885415761, 1730.851232280875, 719.5376801809257, 520.2006323456981, 499.7171202250615, 513.4866668227693, 435.53160557647226, 449.4676928542206, 441.4620543895184, 307.67039108979156, 246.40187228545122, 237.0487951735031, 195.39602850048027, 180.00714924748416, 169.87738110369614, 693.9974594402397, 157.33832302419353, 121.39852040248964, 110.90647634113081, 107.30148977679005, 109.06140478277504, 113.10612390297031, 148.16574802716863, 171.6782149884701, 110.61439138258936, 98.80049771951019, 114.39656902125398, 87.39398611724901, 97.32453352314687, 98.45234218819576, 86.40818775088147, 85.33312310961934, 86.50958933851146, 98.71853589483719, 78.13783642331535, 78.14381490645847, 77.28084296419883, 88.25940838463607, 107.38250558986324, 5641.362077217475, 489.5195334808354, 274.09473348958784, 195.48192945542138, 349.47123184076673, 386.9800644885147, 120.636880260119, 377.9308587091386, 1310.5712204105141, 133.4909834649423, 367.69920046353377, 246.1235277576875, 195.0881870208664, 241.83483844925314, 254.50060004958422, 926.714265889133, 581.3960249715805, 684.8849174088361, 230.64646781687856, 196.42876299974714, 614.9928360114916, 271.64623835183477, 626.3712774334958, 2079.9125175391587, 591.7729968022725, 435.27054481426177, 1545.765584714178, 683.1727294634815, 529.2233921911319, 5394.408509577072, 1124.9457547968539, 930.5551970515013, 414.8451618373663, 523.7494899236038, 987.9071347822614, 439.5540543214774, 363.242152107105, 1189.850338972847, 801.0911833579673, 761.0874854956883, 519.8612891980183, 767.8327032862807, 724.6497240795802, 793.8023655903762, 534.6844535143215, 713.854646138541, 488.2004521261735, 582.8618156661489, 632.2585712617588, 552.5666781599342, 765.8107443931758, 290.31903730708984, 204.59821171656947, 171.18762723562966, 161.0309405542024, 156.29315145868617, 141.85735214743804, 195.98299938088675, 130.07468056059884, 201.5434380377775, 160.23461276727974, 124.14554884187314, 118.3874507433892, 133.8423283915828, 115.27994664515079, 110.41931536298077, 110.24967891063481, 112.06377473714988, 109.7431440150987, 105.09583058985172, 122.4186348442149, 224.31636259895674, 111.30122511293136, 87.40862612630754, 85.22142131870127, 80.78403779921028, 85.71498354652077, 77.12395741778073, 77.78852430899441, 83.30451420484711, 1057.0235058440296, 258.94768090340153, 130.86046805500175, 131.0789764268538, 94.31708566946084, 1064.6089258091615, 1171.9758202372163, 1266.7955967806968, 262.6620336564112, 235.7512045326436, 540.5004669578221, 4924.258337102556, 174.3832470210594, 167.011731289014, 1180.1489483808682, 832.1111534081447, 207.2707115720106, 917.4601296404437, 1220.7249047959187, 457.23632583771587, 315.2692706732143, 316.81605860049007, 1435.784400273628, 441.8444003761651, 556.9213739981914, 405.54603635643736, 208.7377233841986, 489.90636789859934, 1629.3325486471772, 431.76886526008576, 443.7422900803699, 627.7428156261032, 881.0446930859429, 407.7635227874023, 515.4688938068405, 538.8978791852562, 460.1161422434188, 447.1962628599243, 540.797506300316, 418.7159870756481, 356.1961551241084, 413.9236577577116, 408.2484591310015, 266.84356408150984, 212.50139955852484, 194.24671968228452, 158.02796207440971, 244.42395717842504, 118.24980770386375, 122.38253819832299, 140.1282641797181, 154.11031605677198, 106.85611099298727, 103.28936617208272, 106.67216482234276, 101.94236987337605, 89.3114281494133, 87.26229876155013, 226.3115425880528, 83.79883020465442, 83.8686532926558, 1952.9185827787812, 176.6871224630884, 113.25487417842656, 76.13108844770976, 176.79716476091608, 75.84269535031356, 70.07462837106186, 73.0479794596187, 74.85348533260735, 79.1668881103794, 70.00301291242032, 247.95457018823254, 256.003465183638, 150.07973084706154, 350.0404090797885, 116.33907446229485, 108.42144581410572, 443.8707078531281, 629.2312507362329, 245.00071691756222, 196.53184012849542, 7449.446886363982, 412.11603782116265, 795.6028238050384, 571.5546947981003, 158.03267118103633, 1153.934620415847, 299.962446429807, 264.40472305072683, 450.18255098338943, 262.148240851276, 185.11404231572664, 306.15105911812066, 425.50371049271246, 2665.4326593927112, 505.88863681049884, 471.75062971237173, 427.8989790593718, 457.6905071968061, 699.6814435885934, 548.6301817154168, 540.0773329439999, 430.9704012617758, 357.72268160535486, 359.5320367761759, 426.329259213403, 610.4579474231697, 524.1056835172092, 645.2891985103042, 487.4353411028025, 440.2742202618587, 334.9126156870907, 353.9039929660136, 374.29474212703656, 197.32412552477092, 280.61000672983, 161.64129671807825, 171.09537441686194, 124.90633566708536, 116.6862061803669, 121.0570685941883, 104.80892727596058, 180.52494467827842, 100.63541522044507, 97.2036183640364, 99.26133635288897, 87.60340279104439, 95.52900224810844, 85.22277475706615, 92.41915201495567, 134.66056020799306, 79.48860742875529, 78.35094473179343, 79.72983441182348, 78.11012704559803, 74.0989484267031, 87.58151485366297, 65.39175566137324, 78.1088613737299, 68.93580690779878, 60.94648307607996, 65.66964305049282, 59.18774700748269, 62.03889642953695, 176.33609973222096, 197.71672308514408, 122.79287774103476, 110.54157705740467, 269.3737119157012, 198.63172198643719, 2679.7136259829826, 462.4231534948797, 2686.370782946918, 124.44825060706698, 266.55047024349574, 1716.2357392025049, 116.90711314792016, 101.71411398022636, 1936.621728508591, 498.79697617282903, 1844.09192150986, 469.4188808319812, 275.92027056773605, 324.38520143018326, 586.422424323129, 567.4456581759333, 685.5246575362548, 535.7010460979058, 510.07059886175557, 617.4083385302666, 406.94718129541394, 283.951279711729, 574.645505011929, 1448.1008996550922, 780.1941930233944, 1296.7220104751686, 777.1469589149024, 1284.4657730415654, 372.15815610887915, 644.9212491312188, 379.79019525503355, 764.9581232309339, 541.6313925657788, 574.2064365143076, 570.8215891576446, 812.5688955980085, 461.68238912389273, 468.4429659622681, 395.00329404761845], \"Total\": [8889.0, 5800.0, 7676.0, 6682.0, 6581.0, 3104.0, 3256.0, 1973.0, 3195.0, 3042.0, 2249.0, 6166.0, 12232.0, 1350.0, 2431.0, 1226.0, 1433.0, 1080.0, 1109.0, 3183.0, 1492.0, 2979.0, 767.0, 1719.0, 888.0, 1127.0, 698.0, 1616.0, 657.0, 4679.0, 207.77735637486367, 347.0859813287326, 170.60854730972517, 160.93587392709279, 159.47572384282188, 128.38040415046018, 117.51699829093634, 125.88341568015007, 111.51281155552077, 103.358582511308, 103.61210146231416, 104.79633540117597, 224.46638360917427, 103.80801443197862, 99.80334172043175, 102.89353333620234, 95.60616558788459, 95.23867763419088, 87.54126241300396, 90.1258852417515, 91.18070424115463, 84.70145642711104, 86.18101746310215, 80.27670511865217, 87.05405480161221, 78.68655186806977, 81.59243168828522, 265.14344805979664, 73.75942342943198, 74.08172558131152, 208.98447228151602, 118.60174870415486, 446.1673088708702, 212.2775581929893, 265.51808983395216, 401.58952838939655, 417.0829866624081, 126.55116443576327, 175.63501172755483, 150.41079205162305, 137.95043694444013, 7676.252956722581, 6682.703075472598, 324.59681274227796, 478.59053156070564, 186.70077068722213, 6166.21715357439, 1160.4600671534802, 1833.2424885111311, 578.0216224201286, 1618.3656086374845, 2979.248481224997, 416.34297639975784, 946.1324516764513, 2487.546728085702, 1540.0341764223801, 2359.016419606658, 1386.314676999851, 1911.017475198302, 4679.573326856287, 624.2913428858595, 602.4981433848378, 2712.538255925341, 882.2820171909011, 926.530043863696, 1378.1856430407518, 2164.101539553957, 2447.988797457958, 1266.2801331195014, 1593.281530362849, 12232.593845495843, 2816.0427555975766, 1157.8261827063498, 1115.7339016899223, 1354.8331264278877, 887.6446366219033, 1211.1021853719303, 1478.465720829042, 308.6550585698732, 247.36293944299987, 238.04028163359536, 196.38043884249097, 181.0873711916201, 170.98937782089772, 698.5492525673217, 158.4549668728538, 122.29741813454642, 111.79281728037913, 108.17862736450746, 109.9550872142037, 114.03842677841811, 149.40923163327363, 173.14176690501003, 111.57864335235666, 99.68190738913658, 115.49651091272159, 88.26138160810132, 98.29569024097424, 99.43691313721753, 87.28353295347934, 86.21962140134782, 87.42005140311625, 99.79506001813888, 79.01070452579914, 79.03530093350064, 78.16723717456458, 89.28900711814241, 108.65071382136033, 5800.455590302965, 498.51753044325216, 278.0473303693045, 197.85032644975678, 360.27623418164774, 400.54842186420416, 122.4762219961938, 393.08125494634453, 1433.1073558321025, 136.01974389224148, 389.6207500404566, 256.5333554095435, 203.16849906458867, 255.2783285903895, 269.7383924562184, 1127.8379373524724, 691.8860839757273, 834.2573793992285, 251.11070414222456, 210.9704785132457, 762.2949319810834, 304.299898545582, 787.6710822652274, 3183.5864875606026, 756.0222854257119, 531.8312075955123, 2431.6113362195074, 928.7608023501664, 690.2685474344889, 12232.593845495843, 1998.7017567395333, 1616.5913391347492, 545.9589602437724, 801.8839597090421, 2131.454149974826, 622.0122402760494, 466.2316885211936, 3195.5438535686408, 1713.5391955626285, 1600.6824108175897, 887.8176112124951, 2091.0261044519552, 2181.3439235986534, 2979.248481224997, 1075.471119344882, 3042.708338804384, 896.6916681686461, 2816.0427555975766, 8889.223698652164, 6581.002366326222, 767.0518961911167, 291.2808400562288, 205.3897597362725, 172.00830310587702, 161.83583631120953, 157.1413223385687, 142.673476413444, 197.15817361577527, 130.88272361471417, 202.8586285551637, 161.2921773951923, 124.98435824900078, 119.1897447119003, 134.75148175306973, 116.08247269038165, 111.22321908833966, 111.06205250844776, 112.91164115038718, 110.59841110436616, 105.98915059937791, 123.47168322051976, 226.35940891664836, 112.32393041478419, 88.21497431812855, 86.01396962710264, 81.59009129910059, 86.592639540342, 77.9152871937815, 78.58768314238425, 84.16046473741032, 1080.0715939427225, 263.71881526227605, 132.5225419158461, 132.8912189432663, 95.32927518703514, 1109.4058323727033, 1226.4437469272946, 1350.678889913886, 276.45070171616106, 248.71150221869914, 610.4153188920852, 6581.002366326222, 181.35404443096814, 177.44219045725575, 1719.8687392488453, 1167.411885568044, 233.9814967923248, 1827.5178174869789, 2752.434526494846, 773.7774425678934, 469.98275963319514, 475.1746443429407, 4679.573326856287, 809.3281609656837, 1249.012543182748, 773.4722732371301, 260.89686286169075, 1266.8221899826265, 12232.593845495843, 1007.7816257094684, 1178.9176092036494, 2712.538255925341, 6166.21715357439, 1222.165601983444, 2359.016419606658, 3256.6536249853766, 2131.454149974826, 2091.0261044519552, 8889.223698652164, 2816.0427555975766, 1046.3273160588612, 3104.690376532106, 409.54277201485905, 267.7012388978711, 213.35807719853833, 195.1667391732368, 158.89061194249564, 245.78504953067386, 119.11292561545187, 123.29582141831722, 141.20365940679517, 155.31904084688927, 107.71852944746327, 104.14544281418313, 107.573794147606, 102.85790335808151, 90.18822535592146, 88.1235556710309, 228.5857744832029, 84.66920815424703, 84.75430372856651, 1973.7928753629894, 178.62908450180797, 114.51525766839477, 76.98649654673228, 178.91189710744067, 76.75917358474842, 70.92321098676614, 73.94343296148152, 75.7784807704128, 80.15121240676417, 70.87979215167935, 251.16435496555727, 259.6238444693119, 152.60804230491348, 359.1143179469353, 118.22257210483905, 110.11662297788662, 457.5553182379238, 657.2338282082474, 252.50679496340874, 202.71750076862912, 8889.223698652164, 440.0404159744818, 888.9055778038413, 653.8464712226158, 164.37383076145107, 1492.7863348303556, 339.545274686164, 295.9191352938919, 539.8373306884616, 293.4694019616145, 198.83755634280791, 381.5628315271251, 654.0023881655127, 12232.593845495843, 991.974229386186, 931.6740090707315, 797.9275335486473, 895.8064408391365, 2431.6113362195074, 1616.5913391347492, 1713.5391955626285, 1075.471119344882, 685.947679002018, 723.1117399949401, 1178.9176092036494, 4679.573326856287, 2816.0427555975766, 6581.002366326222, 3183.5864875606026, 2181.3439235986534, 734.9843906349777, 1211.1021853719303, 2752.434526494846, 198.16223197018476, 281.97215147802416, 162.4997835772448, 172.14431213713746, 125.80088360071996, 117.61054422086423, 122.04838526928317, 105.67307437752794, 182.07092187304966, 101.50391267774245, 98.06500833995922, 100.19665639577735, 88.4317142303243, 96.43239826077264, 86.04847943941607, 93.32134028894988, 136.06893161899535, 80.34495415330024, 79.20623411159305, 80.60943206262931, 78.97823726609232, 74.94202512546968, 88.6723586410159, 66.25905783729559, 79.15256661137681, 69.87396921211787, 61.7928834248469, 66.58490042570459, 60.01312934309528, 62.90518390135696, 179.53239871296665, 201.68111534735868, 124.80642553820017, 112.71477021168681, 279.7297576293626, 207.92591747869258, 3104.690376532106, 503.0430651178837, 3256.6536249853766, 128.80746929799915, 289.0250332340656, 2249.3205750853517, 121.69466038900947, 105.0972811580883, 3042.708338804384, 679.2759777064939, 3195.5438535686408, 660.2219544934912, 354.32047783321764, 457.1006811925017, 990.5354391747001, 982.1956687102554, 1352.749848439986, 994.8922212760461, 940.61994883331, 1258.72836887197, 707.6540907600936, 451.330035361069, 1464.7916049491434, 6682.703075472598, 2447.988797457958, 6166.21715357439, 2712.538255925341, 7676.252956722581, 739.3940670651955, 2487.546728085702, 827.1846507211601, 4679.573326856287, 2164.101539553957, 2752.434526494846, 2816.0427555975766, 12232.593845495843, 1911.017475198302, 2979.248481224997, 2091.0261044519552], \"Category\": [\"Default\", \"Default\", \"Default\", \"Default\", \"Default\", \"Default\", \"Default\", \"Default\", \"Default\", \"Default\", \"Default\", \"Default\", \"Default\", \"Default\", \"Default\", \"Default\", \"Default\", \"Default\", \"Default\", \"Default\", \"Default\", \"Default\", \"Default\", \"Default\", \"Default\", \"Default\", \"Default\", \"Default\", \"Default\", \"Default\", \"Topic1\", \"Topic1\", \"Topic1\", \"Topic1\", \"Topic1\", \"Topic1\", \"Topic1\", \"Topic1\", \"Topic1\", \"Topic1\", \"Topic1\", \"Topic1\", \"Topic1\", \"Topic1\", \"Topic1\", \"Topic1\", \"Topic1\", \"Topic1\", \"Topic1\", \"Topic1\", \"Topic1\", \"Topic1\", \"Topic1\", \"Topic1\", \"Topic1\", \"Topic1\", \"Topic1\", \"Topic1\", \"Topic1\", \"Topic1\", \"Topic1\", \"Topic1\", \"Topic1\", \"Topic1\", \"Topic1\", \"Topic1\", \"Topic1\", \"Topic1\", \"Topic1\", \"Topic1\", \"Topic1\", \"Topic1\", \"Topic1\", \"Topic1\", \"Topic1\", \"Topic1\", \"Topic1\", \"Topic1\", \"Topic1\", \"Topic1\", \"Topic1\", \"Topic1\", \"Topic1\", \"Topic1\", \"Topic1\", \"Topic1\", \"Topic1\", \"Topic1\", \"Topic1\", \"Topic1\", \"Topic1\", \"Topic1\", \"Topic1\", \"Topic1\", \"Topic1\", \"Topic1\", \"Topic1\", \"Topic1\", \"Topic1\", \"Topic1\", \"Topic1\", \"Topic1\", \"Topic1\", \"Topic1\", \"Topic1\", \"Topic1\", \"Topic1\", \"Topic1\", \"Topic2\", \"Topic2\", \"Topic2\", \"Topic2\", \"Topic2\", \"Topic2\", \"Topic2\", \"Topic2\", \"Topic2\", \"Topic2\", \"Topic2\", \"Topic2\", \"Topic2\", \"Topic2\", \"Topic2\", \"Topic2\", \"Topic2\", \"Topic2\", \"Topic2\", \"Topic2\", \"Topic2\", \"Topic2\", \"Topic2\", \"Topic2\", \"Topic2\", \"Topic2\", \"Topic2\", \"Topic2\", \"Topic2\", \"Topic2\", \"Topic2\", \"Topic2\", \"Topic2\", \"Topic2\", \"Topic2\", \"Topic2\", \"Topic2\", \"Topic2\", \"Topic2\", \"Topic2\", \"Topic2\", \"Topic2\", \"Topic2\", \"Topic2\", \"Topic2\", \"Topic2\", \"Topic2\", \"Topic2\", \"Topic2\", \"Topic2\", \"Topic2\", \"Topic2\", \"Topic2\", \"Topic2\", \"Topic2\", \"Topic2\", \"Topic2\", \"Topic2\", \"Topic2\", \"Topic2\", \"Topic2\", \"Topic2\", \"Topic2\", \"Topic2\", \"Topic2\", \"Topic2\", \"Topic2\", \"Topic2\", \"Topic2\", \"Topic2\", \"Topic2\", \"Topic2\", \"Topic2\", \"Topic2\", \"Topic2\", \"Topic2\", \"Topic2\", \"Topic2\", \"Topic2\", \"Topic2\", \"Topic3\", \"Topic3\", \"Topic3\", \"Topic3\", \"Topic3\", \"Topic3\", \"Topic3\", \"Topic3\", \"Topic3\", \"Topic3\", \"Topic3\", \"Topic3\", \"Topic3\", \"Topic3\", \"Topic3\", \"Topic3\", \"Topic3\", \"Topic3\", \"Topic3\", \"Topic3\", \"Topic3\", \"Topic3\", \"Topic3\", \"Topic3\", \"Topic3\", \"Topic3\", \"Topic3\", \"Topic3\", \"Topic3\", \"Topic3\", \"Topic3\", \"Topic3\", \"Topic3\", \"Topic3\", \"Topic3\", \"Topic3\", \"Topic3\", \"Topic3\", \"Topic3\", \"Topic3\", \"Topic3\", \"Topic3\", \"Topic3\", \"Topic3\", \"Topic3\", \"Topic3\", \"Topic3\", \"Topic3\", \"Topic3\", \"Topic3\", \"Topic3\", \"Topic3\", \"Topic3\", \"Topic3\", \"Topic3\", \"Topic3\", \"Topic3\", \"Topic3\", \"Topic3\", \"Topic3\", \"Topic3\", \"Topic3\", \"Topic3\", \"Topic3\", \"Topic3\", \"Topic3\", \"Topic3\", \"Topic3\", \"Topic3\", \"Topic3\", \"Topic3\", \"Topic3\", \"Topic4\", \"Topic4\", \"Topic4\", \"Topic4\", \"Topic4\", \"Topic4\", \"Topic4\", \"Topic4\", \"Topic4\", \"Topic4\", \"Topic4\", \"Topic4\", \"Topic4\", \"Topic4\", \"Topic4\", \"Topic4\", \"Topic4\", \"Topic4\", \"Topic4\", \"Topic4\", \"Topic4\", \"Topic4\", \"Topic4\", \"Topic4\", \"Topic4\", \"Topic4\", \"Topic4\", \"Topic4\", \"Topic4\", \"Topic4\", \"Topic4\", \"Topic4\", \"Topic4\", \"Topic4\", \"Topic4\", \"Topic4\", \"Topic4\", \"Topic4\", \"Topic4\", \"Topic4\", \"Topic4\", \"Topic4\", \"Topic4\", \"Topic4\", \"Topic4\", \"Topic4\", \"Topic4\", \"Topic4\", \"Topic4\", \"Topic4\", \"Topic4\", \"Topic4\", \"Topic4\", \"Topic4\", \"Topic4\", \"Topic4\", \"Topic4\", \"Topic4\", \"Topic4\", \"Topic4\", \"Topic4\", \"Topic4\", \"Topic4\", \"Topic4\", \"Topic4\", \"Topic4\", \"Topic4\", \"Topic4\", \"Topic4\", \"Topic4\", \"Topic4\", \"Topic4\", \"Topic4\", \"Topic5\", \"Topic5\", \"Topic5\", \"Topic5\", \"Topic5\", \"Topic5\", \"Topic5\", \"Topic5\", \"Topic5\", \"Topic5\", \"Topic5\", \"Topic5\", \"Topic5\", \"Topic5\", \"Topic5\", \"Topic5\", \"Topic5\", \"Topic5\", \"Topic5\", \"Topic5\", \"Topic5\", \"Topic5\", \"Topic5\", \"Topic5\", \"Topic5\", \"Topic5\", \"Topic5\", \"Topic5\", \"Topic5\", \"Topic5\", \"Topic5\", \"Topic5\", \"Topic5\", \"Topic5\", \"Topic5\", \"Topic5\", \"Topic5\", \"Topic5\", \"Topic5\", \"Topic5\", \"Topic5\", \"Topic5\", \"Topic5\", \"Topic5\", \"Topic5\", \"Topic5\", \"Topic5\", \"Topic5\", \"Topic5\", \"Topic5\", \"Topic5\", \"Topic5\", \"Topic5\", \"Topic5\", \"Topic5\", \"Topic5\", \"Topic5\", \"Topic5\", \"Topic5\", \"Topic5\", \"Topic5\", \"Topic5\", \"Topic5\", \"Topic5\", \"Topic5\", \"Topic5\", \"Topic5\", \"Topic5\", \"Topic5\", \"Topic5\", \"Topic5\", \"Topic5\", \"Topic5\", \"Topic5\", \"Topic5\"], \"logprob\": [30.0, 29.0, 28.0, 27.0, 26.0, 25.0, 24.0, 23.0, 22.0, 21.0, 20.0, 19.0, 18.0, 17.0, 16.0, 15.0, 14.0, 13.0, 12.0, 11.0, 10.0, 9.0, 8.0, 7.0, 6.0, 5.0, 4.0, 3.0, 2.0, 1.0, -6.5998, -6.0871, -6.7977, -6.8563, -6.8655, -7.0835, -7.1724, -7.1036, -7.2252, -7.3017, -7.2993, -7.288, -6.5263, -7.2976, -7.3373, -7.3069, -7.3803, -7.3843, -7.4692, -7.4404, -7.4288, -7.5028, -7.4856, -7.5568, -7.4761, -7.5774, -7.5412, -6.3627, -7.6422, -7.638, -6.6023, -7.1713, -5.8609, -6.5973, -6.3796, -5.9763, -5.9508, -7.1095, -6.7925, -6.9435, -7.0293, -3.2253, -3.3946, -6.2599, -5.9311, -6.776, -3.7318, -5.186, -4.8553, -5.8429, -5.0115, -4.5124, -6.1347, -5.5139, -4.7629, -5.1703, -4.8433, -5.2587, -5.0362, -4.4413, -5.8951, -5.9346, -5.0127, -5.7239, -5.697, -5.4657, -5.214, -5.1648, -5.5257, -5.4039, -4.4759, -5.3536, -5.678, -5.7182, -5.691, -5.8557, -5.8242, -5.8421, -6.0707, -6.2928, -6.3315, -6.5247, -6.6067, -6.6647, -5.2573, -6.7413, -7.0006, -7.091, -7.1241, -7.1078, -7.0714, -6.8014, -6.6541, -7.0937, -7.2066, -7.0601, -7.3293, -7.2217, -7.2102, -7.3406, -7.3532, -7.3395, -7.2075, -7.4413, -7.4412, -7.4523, -7.3194, -7.1233, -3.1618, -5.6063, -6.1863, -6.5243, -5.9433, -5.8414, -7.0069, -5.865, -4.6215, -6.9057, -5.8925, -6.2939, -6.5263, -6.3115, -6.2604, -4.9681, -5.4343, -5.2705, -6.3588, -6.5194, -5.3781, -6.1952, -5.3598, -4.1596, -5.4166, -5.7238, -4.4565, -5.273, -5.5283, -3.2066, -4.7742, -4.9639, -5.7718, -5.5387, -4.9041, -5.714, -5.9047, -4.7181, -5.1138, -5.165, -5.5462, -5.1562, -5.214, -5.1229, -5.5181, -5.229, -5.609, -5.4318, -5.3504, -5.4852, -5.0901, -6.06, -6.41, -6.5882, -6.6494, -6.6793, -6.7762, -6.453, -6.8629, -6.425, -6.6544, -6.9096, -6.957, -6.8343, -6.9836, -7.0267, -7.0283, -7.0119, -7.0329, -7.0761, -6.9236, -6.3179, -7.0188, -7.2604, -7.2858, -7.3392, -7.28, -7.3856, -7.377, -7.3085, -4.7678, -6.1744, -6.8569, -6.8552, -7.1843, -4.7606, -4.6646, -4.5868, -6.1601, -6.2682, -5.4385, -3.2291, -6.5698, -6.6129, -4.6576, -5.007, -6.397, -4.9094, -4.6238, -5.6058, -5.9776, -5.9727, -4.4615, -5.64, -5.4086, -5.7258, -6.3899, -5.5368, -4.3351, -5.6631, -5.6358, -5.2889, -4.9499, -5.7203, -5.4859, -5.4415, -5.5995, -5.628, -5.438, -5.6938, -5.8555, -5.7053, -5.6288, -6.054, -6.2817, -6.3715, -6.5779, -6.1418, -6.8679, -6.8335, -6.6981, -6.603, -6.9692, -7.0031, -6.9709, -7.0163, -7.1485, -7.1718, -6.2188, -7.2123, -7.2114, -4.0636, -6.4663, -6.911, -7.3082, -6.4657, -7.312, -7.3911, -7.3496, -7.3251, -7.2691, -7.3921, -6.1274, -6.0955, -6.6295, -5.7826, -6.8842, -6.9546, -5.5451, -5.1962, -6.1394, -6.3598, -2.7248, -5.6194, -4.9616, -5.2923, -6.5779, -4.5897, -5.937, -6.0632, -5.531, -6.0718, -6.4197, -5.9166, -5.5874, -3.7525, -5.4144, -5.4842, -5.5818, -5.5145, -5.09, -5.3332, -5.349, -5.5746, -5.7609, -5.7559, -5.5855, -5.2265, -5.379, -5.171, -5.4515, -5.5533, -5.8268, -5.7716, -5.7156, -6.3067, -5.9546, -6.5062, -6.4493, -6.764, -6.8321, -6.7953, -6.9394, -6.3957, -6.98, -7.0147, -6.9938, -7.1187, -7.0321, -7.1463, -7.0652, -6.6888, -7.2159, -7.2303, -7.2129, -7.2334, -7.2861, -7.119, -7.4112, -7.2334, -7.3584, -7.4816, -7.4069, -7.5108, -7.4638, -6.4192, -6.3047, -6.781, -6.8862, -5.9954, -6.3001, -3.6981, -5.4551, -3.6956, -6.7677, -6.006, -4.1437, -6.8302, -6.9694, -4.0228, -5.3793, -4.0718, -5.4401, -5.9714, -5.8096, -5.2175, -5.2504, -5.0614, -5.308, -5.357, -5.166, -5.5829, -5.9427, -5.2378, -4.3135, -4.932, -4.424, -4.9359, -4.4334, -5.6722, -5.1224, -5.6519, -4.9517, -5.297, -5.2386, -5.2445, -4.8913, -5.4567, -5.4421, -5.6127], \"loglift\": [30.0, 29.0, 28.0, 27.0, 26.0, 25.0, 24.0, 23.0, 22.0, 21.0, 20.0, 19.0, 18.0, 17.0, 16.0, 15.0, 14.0, 13.0, 12.0, 11.0, 10.0, 9.0, 8.0, 7.0, 6.0, 5.0, 4.0, 3.0, 2.0, 1.0, 1.4196, 1.4191, 1.4187, 1.4185, 1.4184, 1.4173, 1.4169, 1.4169, 1.4165, 1.4159, 1.4158, 1.4158, 1.4158, 1.4156, 1.4153, 1.4153, 1.4153, 1.4151, 1.4145, 1.4142, 1.4142, 1.4139, 1.4138, 1.4136, 1.4132, 1.413, 1.4129, 1.4128, 1.4128, 1.4127, 1.4113, 1.4088, 1.3942, 1.4006, 1.3946, 1.3841, 1.3717, 1.4056, 1.395, 1.399, 1.3996, 1.1846, 1.154, 1.3133, 1.2538, 1.3503, 0.8972, 1.1132, 0.9867, 1.1534, 0.9551, 0.844, 1.1896, 0.9896, 0.7739, 0.846, 0.7465, 0.8628, 0.7642, 0.4635, 1.0241, 1.0202, 0.4375, 0.8494, 0.8274, 0.6616, 0.462, 0.388, 0.6862, 0.5784, -0.5319, 0.0591, 0.6235, 0.6204, 0.4534, 0.7116, 0.4324, 0.2149, 1.5529, 1.5522, 1.5519, 1.5511, 1.5501, 1.5496, 1.5496, 1.549, 1.5487, 1.5481, 1.548, 1.5479, 1.5479, 1.5477, 1.5476, 1.5474, 1.5472, 1.5465, 1.5462, 1.5462, 1.5461, 1.546, 1.5458, 1.5456, 1.5453, 1.545, 1.5448, 1.5447, 1.5445, 1.5444, 1.5283, 1.5379, 1.5418, 1.5441, 1.5256, 1.5216, 1.541, 1.5168, 1.4667, 1.5373, 1.4982, 1.5147, 1.5155, 1.502, 1.4979, 1.3597, 1.3821, 1.3588, 1.4711, 1.4847, 1.3414, 1.4426, 1.327, 1.1304, 1.3111, 1.3557, 1.1031, 1.249, 1.2904, 0.7374, 0.9813, 1.0038, 1.2815, 1.1301, 0.7871, 1.2089, 1.3065, 0.5682, 0.7958, 0.8127, 1.0209, 0.5543, 0.4541, 0.2335, 0.8573, 0.1063, 0.9481, -0.019, -1.0872, -0.9213, 1.6232, 1.6215, 1.621, 1.62, 1.6198, 1.6194, 1.6191, 1.6188, 1.6186, 1.6183, 1.6182, 1.6181, 1.6181, 1.618, 1.6179, 1.6176, 1.6175, 1.6173, 1.6171, 1.6164, 1.6163, 1.6158, 1.6157, 1.6156, 1.6156, 1.6149, 1.6146, 1.6146, 1.6146, 1.6146, 1.6032, 1.6066, 1.6122, 1.6111, 1.6141, 1.5836, 1.5794, 1.5607, 1.5737, 1.5713, 1.5032, 1.3348, 1.5856, 1.5642, 1.2482, 1.2862, 1.5036, 0.9357, 0.8118, 1.0987, 1.2255, 1.2195, 0.4433, 1.0196, 0.8171, 0.9792, 1.4018, 0.6748, -0.3911, 0.7772, 0.6477, 0.1613, -0.3209, 0.5271, 0.1039, -0.1741, 0.0917, 0.0824, -1.1747, -0.2811, 0.5473, -0.3902, 1.712, 1.7119, 1.7111, 1.7104, 1.7097, 1.7096, 1.7079, 1.7077, 1.7075, 1.7073, 1.7071, 1.7069, 1.7067, 1.7062, 1.7054, 1.7053, 1.7052, 1.7048, 1.7047, 1.7045, 1.7042, 1.7041, 1.704, 1.7033, 1.7031, 1.7031, 1.703, 1.7029, 1.7028, 1.7027, 1.7023, 1.7011, 1.6984, 1.6896, 1.6991, 1.6996, 1.6848, 1.6716, 1.685, 1.6842, 1.5385, 1.6496, 1.6043, 1.5806, 1.6758, 1.4577, 1.5912, 1.6026, 1.5335, 1.6023, 1.6436, 1.495, 1.2853, 0.1914, 1.0418, 1.0346, 1.092, 1.0436, 0.4695, 0.6345, 0.5606, 0.8007, 1.0641, 1.0164, 0.698, -0.3216, 0.0338, -0.6071, -0.1615, 0.1149, 0.9292, 0.4849, -0.28, 1.76, 1.7594, 1.759, 1.7582, 1.7571, 1.7564, 1.7561, 1.7561, 1.7558, 1.7557, 1.7555, 1.7549, 1.7549, 1.7549, 1.7546, 1.7546, 1.7539, 1.7536, 1.7534, 1.7533, 1.7532, 1.753, 1.7519, 1.7511, 1.751, 1.7508, 1.7505, 1.7504, 1.7504, 1.7504, 1.7463, 1.7444, 1.748, 1.7448, 1.7266, 1.7185, 1.6171, 1.6801, 1.5718, 1.7298, 1.6833, 1.4938, 1.7241, 1.7316, 1.3125, 1.4554, 1.2145, 1.4232, 1.5142, 1.4213, 1.2401, 1.2156, 1.0846, 1.1452, 1.1523, 1.052, 1.211, 1.3009, 0.8286, 0.235, 0.6208, 0.205, 0.5143, -0.0235, 1.0778, 0.4144, 0.9859, -0.0469, 0.3791, 0.197, 0.1683, -0.9474, 0.3438, -0.0857, 0.0978]}, \"token.table\": {\"Topic\": [1, 2, 3, 4, 5, 5, 5, 1, 3, 2, 3, 3, 5, 2, 5, 1, 3, 4, 5, 3, 5, 1, 2, 3, 4, 5, 4, 2, 3, 5, 3, 2, 2, 1, 2, 3, 4, 5, 5, 1, 1, 1, 2, 3, 5, 1, 2, 3, 4, 5, 1, 2, 4, 5, 2, 3, 4, 1, 3, 5, 4, 1, 2, 3, 4, 5, 5, 1, 3, 4, 1, 2, 3, 4, 5, 1, 2, 3, 4, 5, 1, 2, 3, 4, 5, 4, 1, 2, 3, 4, 5, 3, 5, 3, 1, 4, 5, 1, 5, 4, 1, 3, 4, 5, 1, 2, 3, 4, 5, 2, 3, 4, 1, 2, 3, 4, 5, 2, 1, 2, 3, 4, 5, 1, 2, 3, 4, 5, 1, 2, 3, 4, 5, 1, 2, 3, 4, 5, 1, 4, 1, 2, 3, 4, 5, 4, 1, 2, 4, 1, 1, 3, 4, 1, 2, 3, 4, 5, 1, 2, 3, 4, 5, 2, 3, 4, 5, 1, 2, 3, 4, 5, 2, 5, 1, 2, 3, 4, 5, 1, 2, 3, 4, 5, 5, 1, 3, 4, 3, 2, 5, 1, 2, 5, 1, 2, 3, 4, 5, 2, 5, 2, 3, 5, 2, 1, 2, 3, 4, 5, 1, 2, 4, 5, 1, 2, 3, 4, 5, 1, 5, 1, 5, 1, 2, 1, 2, 3, 4, 5, 1, 3, 4, 4, 1, 2, 3, 4, 5, 1, 2, 3, 4, 5, 4, 3, 1, 2, 3, 4, 5, 1, 2, 3, 4, 5, 4, 2, 3, 2, 3, 1, 2, 3, 4, 5, 1, 1, 2, 3, 4, 5, 1, 3, 3, 4, 2, 3, 2, 1, 3, 4, 3, 1, 2, 5, 1, 2, 5, 1, 2, 3, 4, 5, 1, 5, 1, 1, 2, 3, 4, 5, 3, 5, 3, 3, 2, 2, 2, 4, 3, 4, 1, 2, 3, 4, 5, 1, 1, 2, 3, 4, 5, 2, 3, 4, 5, 1, 3, 5, 1, 2, 3, 4, 5, 1, 2, 3, 4, 5, 3, 4, 1, 3, 4, 5, 1, 3, 5, 1, 2, 3, 4, 5, 5, 2, 2, 1, 2, 3, 4, 5, 1, 2, 3, 4, 5, 1, 2, 3, 4, 5, 1, 2, 3, 4, 5, 5, 5, 5, 1, 2, 3, 4, 5, 1, 2, 3, 4, 5, 4, 1, 3, 4, 5, 1, 2, 3, 4, 5, 1, 3, 1, 2, 3, 4, 5, 2, 1, 3, 3, 1, 2, 3, 4, 5, 1, 2, 1, 2, 3, 4, 1, 2, 3, 4, 5, 2, 1, 2, 1, 4, 2, 1, 2, 3, 4, 5, 2, 3, 4, 1, 3, 1, 2, 3, 4, 5, 1, 2, 3, 4, 5, 4, 1, 2, 3, 4, 5, 2, 4, 3, 1, 2, 3, 4, 5, 1, 2, 3, 4, 5, 1, 5, 1, 2, 3, 4, 5, 1, 2, 3, 4, 5, 1, 3, 4, 1, 2, 3, 4, 5, 1, 2, 3, 4, 1, 2, 3, 4, 5, 1, 2, 3, 4, 5, 1, 2, 3, 4, 5, 5, 1, 2, 3, 4, 5, 1, 2, 4, 4, 1, 3, 4, 1, 2, 3, 4, 5, 1, 3, 1, 2, 3, 4, 5, 4, 5, 3, 1, 2, 3, 4, 5, 1, 4, 1, 2, 3, 4, 5, 1, 2, 3, 4, 5, 1, 2, 3, 4, 5, 4, 1, 5, 1, 2, 3, 4, 5, 4, 4, 5, 1, 1, 2, 3, 4, 5, 1, 2, 3, 4, 5, 1, 2, 3, 4, 5, 1, 2, 3, 5, 5, 4, 5, 1, 2, 3, 4, 5, 3, 1, 1, 2, 3, 4, 5, 1, 2, 3, 4, 5, 1, 5, 1, 2, 3, 4, 5, 3, 2, 3, 5, 1, 2, 3, 4, 5, 3, 4, 1, 2, 3, 1, 2, 4, 1, 2, 3, 4, 5, 1, 3, 2, 1, 1, 2, 3, 4, 5, 4, 4, 4, 4, 5, 1, 2, 3, 4, 5, 2, 3, 4, 5, 4, 5, 1, 2, 3, 4, 5, 1, 2, 3, 4, 5, 2, 1, 1, 1, 3, 4, 5, 3, 1, 2, 1, 2, 3, 4, 5, 1, 2, 3, 4, 5, 1, 3, 3, 2, 1, 2, 3, 4, 5, 2, 1, 2, 3, 4, 5, 1, 1, 2, 3, 4, 5, 5, 5, 1, 1, 2, 3, 4, 5, 1, 2, 3, 4, 5, 1, 2, 3, 4, 5, 5, 3, 1, 2, 4, 5, 5, 3, 1, 3, 4, 5, 1, 2, 3, 4, 5, 1, 2, 3, 4, 5, 5, 1, 1, 2, 3, 4, 5, 1, 2, 3, 4, 5, 1, 2, 3, 4, 5, 1, 2, 3, 4, 5, 1, 2, 3, 4, 5, 1, 2, 3, 4, 5, 1, 2, 3, 4, 5, 2, 1, 1, 2, 3, 4, 5, 1, 2, 3, 4, 5, 1, 2, 3, 4, 5, 5, 2, 1, 2, 3, 4, 5, 2, 1, 2, 3, 4, 1, 2, 3, 4, 5, 1, 2, 3, 4, 5, 1, 2, 3, 4, 5, 1, 3, 5, 2, 4, 3, 2, 3, 4, 1, 3, 4, 5, 2, 3, 4, 5, 5, 1, 2, 3, 4, 5, 3, 1, 2, 3, 4, 5, 1, 4, 1, 2, 3, 4, 5, 1, 3, 5, 1, 3, 5, 1, 2, 3, 4, 5, 5, 1, 3, 5, 1, 5, 1, 2, 3, 4, 5, 1, 3, 4, 5, 3, 4, 1, 3, 5, 1, 3, 5, 4, 1, 2, 3, 4, 5, 1, 3, 4, 5, 3, 2, 4, 1, 2, 3, 4, 5, 2, 5, 1, 2, 3, 4, 5, 1, 2, 3, 4, 5, 1, 2, 3, 4, 5, 3, 1, 5, 1, 2, 3, 4, 5], \"Freq\": [0.16559159664492862, 0.707381577900666, 0.07073815779006659, 0.054661303746869644, 0.0032153708086393906, 0.9948087628969927, 0.9936337203857655, 0.004929541361500767, 0.9957673550231548, 0.9929705888701157, 0.988213282691451, 0.988511072200736, 0.0075458860473338624, 0.00549236522621255, 0.9941181059444717, 0.8964967879430381, 0.09550309424822742, 0.006161489951498543, 0.0030807449757492716, 0.07951605493383822, 0.9184104344858315, 0.014497737027656884, 0.5442227438074276, 0.10929063297772112, 0.31783500406786247, 0.013382526487067893, 0.9890015080522838, 0.9951950222360396, 0.9411515917925327, 0.05635638274206783, 0.9927369687260893, 0.9858544797399359, 0.9893912876139458, 0.5504408663029035, 0.02698239540700507, 0.09066084856753705, 0.21046268417463956, 0.12196042723966292, 0.9912157197507981, 0.9940923747933363, 0.9924011140453769, 0.0014315382864197202, 0.9934875707752858, 0.0028630765728394404, 0.0014315382864197202, 0.01194692201691591, 0.9199129953025251, 0.055752302745607586, 0.00398230733897197, 0.01194692201691591, 0.003981456684556741, 0.003981456684556741, 0.9874012577700717, 0.003981456684556741, 0.9934055951638958, 0.005775613925371487, 0.9901096696421537, 0.004809405254169318, 0.03847524203335454, 0.9570716455796942, 0.9871861093700574, 0.007489731169174533, 0.9661753208235148, 0.012482885281957555, 0.002496577056391511, 0.012482885281957555, 0.9936305971838832, 0.9319725856488316, 0.010712328570676225, 0.05891780713871924, 0.02372467063380513, 0.9147953882623096, 0.02372467063380513, 0.025120239494617197, 0.01325790417771463, 0.07024084730823184, 0.00428297849440438, 0.7126876214688889, 0.07966339999592148, 0.1327723333265358, 0.007211067191606769, 0.0009013833989508462, 0.9599733198826511, 0.02794288536747623, 0.004506916994754231, 0.9894901432715975, 0.04316522564497474, 0.7947479780515937, 0.06474783846746211, 0.019043481902194737, 0.07871305852907158, 0.9919885922797963, 0.9847709700489788, 0.9945893336225105, 0.995600650982793, 0.9829101909340887, 0.013105469212454516, 0.9881443494727137, 0.007543086637196288, 0.9916593345764119, 0.003851726339096724, 0.007703452678193448, 0.9860419428087613, 0.003851726339096724, 0.03161405210091642, 0.49745640805853775, 0.04277195284241633, 0.40075460163220517, 0.02696492679195812, 0.9597944607446657, 0.00492202287561367, 0.03445416012929569, 0.0015516022594925028, 0.9725098161996899, 0.012068017573830577, 0.01017161481222863, 0.0036204052721491736, 0.9891048038487669, 0.1642071446876461, 0.4635333112896981, 0.21581510444662058, 0.1285507361269001, 0.02768063296163177, 0.0026208003436752735, 0.11269441477803675, 0.07076160927923239, 0.8019649051646337, 0.010483201374701094, 0.14919742430363284, 0.060485442285256555, 0.19657768742708379, 0.5100938966056636, 0.08467961919935918, 0.14150719151338215, 0.44095308551310414, 0.13316881281068718, 0.21786058081060855, 0.06646178318912749, 0.004068595717719602, 0.992737355123583, 0.013608881519664145, 0.5759031224912418, 0.041445230082613534, 0.3396034524679825, 0.030310690657433775, 0.9946660415563787, 0.005598192493618689, 0.005598192493618689, 0.9908800713705082, 0.9936597646798482, 0.01916466125792647, 0.8010828405813265, 0.1801478158245088, 0.4491174994717523, 0.37743143705606874, 0.020728499975619336, 0.012955312484762085, 0.1399173748354305, 0.015215284988087158, 0.019779870484513306, 0.0030430569976174315, 0.9570414257506822, 0.004564585496426147, 0.9829142809969413, 0.0020059475122386557, 0.010029737561193278, 0.0060178425367159675, 0.5170020749797055, 0.01831485083430131, 0.13971614779309854, 0.0837250323853774, 0.24175603101277726, 0.9939953228959877, 0.9831182050630418, 0.19543533464686821, 0.2788528555327266, 0.012711241277845087, 0.0222446722362289, 0.49017724177690114, 0.0008224998667383475, 0.6357923969887427, 0.07237998827297458, 0.2878749533584216, 0.00328999946695339, 0.9874299483648524, 0.9704879568514485, 0.026895740143689104, 0.986825050041375, 0.994835282899875, 0.9905679748308149, 0.006693026856964966, 0.008012407980500368, 0.008012407980500368, 0.9855261816015453, 0.09845173968785492, 0.03332212727896628, 0.11208351902925022, 0.04543926447131766, 0.7103671679015994, 0.985563652685298, 0.989139772096208, 0.015167670141479603, 0.9821066416608043, 0.003791917535369901, 0.9870428041427808, 0.011362592658511516, 0.027270222380427638, 0.011362592658511516, 0.9362776350613489, 0.013635111190213819, 0.020445061597204585, 0.023852571863405347, 0.8927676897446002, 0.06133518479161375, 0.06594538385385298, 0.467453561654303, 0.11788466848210888, 0.3151372325759346, 0.033848073128526314, 0.9965306943787782, 0.9809979513987762, 0.9857191673193033, 0.009570089003100033, 0.9968711460930367, 0.0028811304800376784, 0.0030580928085140982, 0.3394483017450649, 0.004587139212771147, 0.6513737682135029, 0.0030580928085140982, 0.9716852066891044, 0.003766221731353118, 0.022597330388118706, 0.9897268886562747, 0.7333298439880296, 0.20422934550547947, 0.0008617271962256518, 0.0008617271962256518, 0.06032090373579562, 0.21676240772995317, 0.008417957581745754, 0.667123138353351, 0.07576161823571179, 0.03367183032698302, 0.9943948107971416, 0.9906674353574477, 0.5705775269665453, 0.13056198783937384, 0.1651861614100365, 0.07429770578704699, 0.05914962984988207, 0.24782858316009118, 0.027805158110644376, 0.20430746611734346, 0.06165491581055927, 0.4593895687845593, 0.9914757208711742, 0.9929081554641321, 0.9925219434027659, 0.9879468686073638, 0.008164850153779867, 0.978612340708798, 0.007248980301546652, 0.007248980301546652, 0.007248980301546652, 0.007248980301546652, 0.9870509418524351, 0.09085994951880441, 0.07369751460969691, 0.0969172794867247, 0.14739502921939382, 0.591599226866882, 0.007524951670636104, 0.9857686688533296, 0.002441747403037351, 0.9962329404392392, 0.9855935216236269, 0.010108651503832071, 0.9852946723162153, 0.005029230988314601, 0.06538000284808981, 0.9304077328382012, 0.9921241484711256, 0.9773234885269907, 0.013296918211251575, 0.006648459105625787, 0.007351873863196119, 0.9777992238050838, 0.007351873863196119, 0.12713112558923417, 0.17717210055520932, 0.04327868105165419, 0.14877046611506126, 0.5031146672254799, 0.9864947294482956, 0.008431578884173467, 0.9917184844665018, 0.04634552352702818, 0.08402975249326748, 0.7482142880232352, 0.09800938581945302, 0.023400690567745373, 0.01671007584985454, 0.9803244498581329, 0.9862112841102875, 0.9931560055971512, 0.9908940625738741, 0.9857085671545217, 0.004374725427515537, 0.9886879466185114, 0.9594492394473869, 0.03308445653266851, 0.08105878418353508, 0.039764686580602115, 0.004588233066992552, 0.8748231047732465, 0.0015294110223308505, 0.9927391343041652, 0.37308229581255126, 0.023962795679659914, 0.2315174721050219, 0.08516008926156061, 0.2864475729707039, 0.4565718456063722, 0.03125675226645091, 0.5112711620726613, 0.0011163125809446753, 0.2635158696534143, 0.0014721556963877894, 0.7346056924975068, 0.5222012456423879, 0.0028140174899897734, 0.12582678205239986, 0.09004855967967275, 0.2592916115776291, 0.645850184806477, 0.01090963150010941, 0.1423706910764278, 0.09764120192597922, 0.10255053610102846, 0.02772202625681572, 0.9702709189885501, 0.6711609968242129, 0.09931260573532506, 0.03043450820921252, 0.19862521147065013, 0.9736099785460506, 0.02277450242212984, 0.9924174945685397, 0.7636131580841062, 0.010923723405867088, 0.006135241912884256, 0.0026935208398028436, 0.21667878755747322, 0.9880569228672607, 0.994814031296927, 0.9913138424205594, 0.033365661884638104, 0.9453604200647463, 0.014829183059839157, 0.0037072957649597893, 0.007414591529919579, 0.002456509325592132, 0.0015353183284950826, 0.16550731581176992, 0.005834209648281314, 0.8247730060675583, 0.14341227132380469, 0.6534611319449882, 0.04489427624049538, 0.12720044934807023, 0.032423643951468885, 0.105211503353116, 0.36728379352360496, 0.2137706454492857, 0.12481910170528764, 0.1889024719294583, 0.9871686935306845, 0.9955160478369173, 0.9941349471156561, 0.10025973116156749, 0.15038959674235125, 0.10025973116156749, 0.5363895617143861, 0.11279219755676342, 0.05006696092505724, 0.008835346045598335, 0.047121845576524456, 0.8835346045598336, 0.008835346045598335, 0.9872411528151125, 0.01709536888530243, 0.8846853398144008, 0.03419073777060486, 0.059833791098558506, 0.35498528461502254, 0.16299094195787572, 0.08660170349641517, 0.07638923846146055, 0.3186289090905841, 0.9798408458180705, 0.015803884609968878, 0.6672219730695963, 0.04813292840551814, 0.02157682997488744, 0.03817439149403162, 0.2240670805084465, 0.9908177894226485, 0.9912748512703813, 0.994423202303283, 0.9880808037751349, 0.0008866522102877974, 0.8219265989367882, 0.007093217682302379, 0.1684639199546815, 0.0017733044205755948, 0.009203805155336253, 0.984807151620979, 0.0013829121347234625, 0.43838314670733763, 0.06223104606255581, 0.4978483685004465, 0.001448711524980655, 0.7663683967147664, 0.010140980674864585, 0.21730672874709825, 0.00289742304996131, 0.9931591659209071, 0.9878919505356264, 0.9978777001974037, 0.997016951349343, 0.993329565014033, 0.9855494997593633, 0.27800836650924377, 0.0222406693207395, 0.5461319910981588, 0.06054404426201308, 0.09266945550308126, 0.9616332380224971, 0.027984036027109704, 0.007632009825575374, 0.9875076373593284, 0.9952795962475016, 0.4785670912384207, 0.07344346449698536, 0.20611552939476538, 0.09397604596926083, 0.1484663583379919, 0.4911875563843647, 0.03267073196134536, 0.1982775456964408, 0.2050370074815467, 0.07322750267198097, 0.9872502231386897, 0.01283299208135301, 0.9445082171875816, 0.02309938574643542, 0.01283299208135301, 0.005133196832541204, 0.9850674372440991, 0.9911001129691037, 0.989002124750875, 0.508262676781165, 0.022466990716765427, 0.21831132488932442, 0.09156358480794967, 0.15938846244346794, 0.6479008292272671, 0.032764968525359345, 0.00951241021703981, 0.03910657533671922, 0.2705752239513546, 0.9938170595432999, 0.9856103448838747, 0.4481355269770738, 0.0905233764493689, 0.17029150025128806, 0.0582576185070196, 0.2330304740280784, 0.11451181910090524, 0.055135320307843266, 0.3766166494874217, 0.3613484069406343, 0.09245769097776795, 0.00986594641516764, 0.01973189283033528, 0.9717957218940126, 0.015749704298839984, 0.07424860598024564, 0.007874852149419992, 0.895483187276902, 0.006749873270931422, 0.0055692571976356875, 0.016707771592907063, 0.0027846285988178438, 0.9746200095862453, 0.20412459969715696, 0.053249895573171384, 0.1617977596261746, 0.18774001644387348, 0.39254730710991725, 0.2982821947016205, 0.16503595353105532, 0.21441146421862514, 0.12512971886575916, 0.1968256658915455, 0.06095982919775421, 0.07971669972014012, 0.06631893506129304, 0.7730510208154764, 0.020096646988270617, 0.9858409632260035, 0.15960375056204584, 0.0022228934618669337, 0.07291090554923543, 0.0022228934618669337, 0.7628970361127317, 0.0032862317890329728, 0.8938550466169686, 0.10515941724905513, 0.9906565504146471, 0.9751384072913102, 0.009421627123587538, 0.009421627123587538, 0.020409719908038075, 0.17639829349090053, 0.19826585053522702, 0.5219056947912594, 0.08309671676844074, 0.9919507532855758, 0.9932556139547288, 0.14023948482130144, 0.07193631604823235, 0.4436072822974328, 0.13587970809110556, 0.20854265359437055, 0.9807783518905072, 0.009081281036023216, 0.9941380556189989, 0.2191422499745565, 0.5628653680853335, 0.06904481848513423, 0.07604936528797394, 0.0730474166581855, 0.9970368986374716, 0.9856369932257316, 0.0010132775454629154, 0.008106220363703323, 0.0005066387727314577, 0.9894655231445368, 0.0010132775454629154, 0.3821447306813769, 0.026800960555646746, 0.18206169756766927, 0.158495335699773, 0.25045035553725065, 0.040368715283296316, 0.3723935750939738, 0.009075137544306925, 0.0009388073321696818, 0.5770535735069644, 0.9973805168001533, 0.9922162615632334, 0.9854386703966823, 0.04315215051010347, 0.8210895305394688, 0.027569429492566105, 0.08510563017270406, 0.02277474610255461, 0.9869829499550098, 0.035748788705025215, 0.9616424161651784, 0.9913159427300184, 0.051828339090115284, 0.6533511836814533, 0.09109223234020263, 0.15297212810234026, 0.05057189450611249, 0.0027775936491846055, 0.0009258645497282017, 0.9786388290627093, 0.014813832795651228, 0.0027775936491846055, 0.00804144553894151, 0.024124336616824536, 0.9488905735950983, 0.01608289107788302, 0.00804144553894151, 0.040720263277015147, 0.0007403684232184573, 0.9380467922177853, 0.020730315850116803, 0.9874922060107285, 0.008871951724888626, 0.9847866414626375, 0.3829408954264333, 0.016454491600354556, 0.30686558361180705, 0.13035376462618545, 0.16347644252300306, 0.986227119289895, 0.9941848022802128, 0.16024348294908222, 0.08051642985618909, 0.3867946140150261, 0.08288456014607701, 0.28970127212962155, 0.7902138829024121, 0.13930822251775046, 0.004803731810956913, 0.050439184015047586, 0.01441119543287074, 0.0035464495155222314, 0.996552313861747, 0.02407409322283654, 0.07109732204127427, 0.060860207633432556, 0.8379809365276139, 0.0058497796616238315, 0.9882115703821308, 0.958939626417284, 0.015592514250687545, 0.02338877137603132, 0.03442719629574489, 0.39951560352503945, 0.4459522869006954, 0.07205692247946603, 0.048838580791638095, 0.028411865149035685, 0.970374471243988, 0.009479999353911646, 0.9290399366833413, 0.056879996123469875, 0.9840961943223111, 0.005589343225171199, 0.9893137508553022, 0.13350100367558632, 0.8179286844912683, 0.01692266243775038, 0.0075211833056668355, 0.024443845743417215, 0.9964330784165204, 0.9981023409503328, 0.9869007782437405, 0.9862960835475423, 0.00661356165868117, 0.7830457003878506, 0.11243054819757989, 0.09523528788500885, 0.002645424663472468, 0.9920962039348721, 0.9983217077917087, 0.9875875461119209, 0.9915075393223066, 0.006438360644950043, 0.02230107965668839, 0.80677435228608, 0.0839570057663563, 0.07083872361536313, 0.015741938581191803, 0.9854437359138503, 0.00719301997017409, 0.003596509985087045, 0.003596509985087045, 0.007349216225200368, 0.9921441904020497, 0.027474592583483663, 0.7601303948097147, 0.045790987639139434, 0.1446995209396806, 0.02197967406678693, 0.3705716082278248, 0.5857058853448902, 0.005631787359085484, 0.01013721724635387, 0.028158936795427417, 0.99203307239863, 0.9962587050464672, 0.9954013216206512, 0.03617281467517219, 0.9513450259570285, 0.003617281467517219, 0.007234562935034438, 0.9882527906044278, 0.05092480850914429, 0.9479848968625323, 0.20837321198971692, 0.14139610813587936, 0.0924921910362519, 0.01594692948900895, 0.5421956026263043, 0.0006441866200628905, 0.0006441866200628905, 0.13334663035301833, 0.0022546531702201168, 0.8632100708842733, 0.0013036927552954546, 0.9986286505563182, 0.9956027315219856, 0.9872080051448077, 0.3786444175251017, 0.17197689918781423, 0.13064339552035673, 0.19264365102154296, 0.12547670756192453, 0.9956298084237835, 0.16150552394161677, 0.7353884856808284, 0.013997145408273454, 0.026917587323602794, 0.061372099097814374, 0.9929822711325638, 0.4525049082046377, 0.0038786134988968942, 0.5249056935173797, 0.006464355831494824, 0.011635840496690683, 0.9924396928866114, 0.9950355344493735, 0.9897040487286545, 0.7629472374295785, 0.031140703568554223, 0.1159126188385074, 0.008650195435709506, 0.08131183709566936, 0.10747004431206604, 0.2346593628098323, 0.019390619615938524, 0.002300581988331689, 0.6366039016283546, 0.00819114436556915, 0.00163822887311383, 0.886281820354582, 0.0982937323868298, 0.00491468661934149, 0.995118106280289, 0.9919260658945435, 0.004958322440242775, 0.004958322440242775, 0.00991664488048555, 0.9817478431680694, 0.9933525997871724, 0.9906749687072152, 0.0021277376233555132, 0.6702373513569866, 0.008510950493422053, 0.31916064350332696, 0.10151853420912033, 0.07840045216149887, 0.19700626440581767, 0.08443125617392186, 0.538751825109787, 0.00428971270988391, 0.7785828568439296, 0.00428971270988391, 0.17158850839535636, 0.04075227074389714, 0.9969244046592391, 0.9869939643749717, 0.5633119459721042, 0.1722805146635007, 0.006800546631453974, 0.029469035402967223, 0.22781831215370812, 0.13197559191182068, 0.32517697388582617, 0.06122579006218484, 0.45579199268515386, 0.025850889137366936, 0.21807431753934328, 0.12345224077650958, 0.10201442650993008, 0.048789508330836125, 0.5071151926508118, 0.4665554334039649, 0.05079141576715014, 0.22565900433690994, 0.09142454838087026, 0.1654348970701462, 0.08896027732140939, 0.0052329574894946695, 0.6860988708448567, 0.18082775324809358, 0.03895646131068254, 0.23391739025025732, 0.002584722544201738, 0.5906091013500973, 0.05298681215613563, 0.1214819595774817, 0.787493590177485, 0.03243770123311725, 0.009249304367676002, 0.0035173410975669304, 0.16726910997318292, 0.9942138053631961, 0.9853982129489651, 0.5906376485441858, 0.012973918693996393, 0.14287527961763527, 0.043138279657538005, 0.2103396568264165, 0.02954827552612069, 0.26702886031012774, 0.501773493656531, 0.18823345890713922, 0.013132566900498086, 0.008671947794531003, 0.8397336114370854, 0.06503960845898252, 0.04480506360507684, 0.040469089707811344, 0.9878152473321243, 0.9944901227076745, 0.1775536798350667, 0.24792057599089962, 0.3338336468788351, 0.18573587706248915, 0.05563894114647252, 0.986818443028399, 0.9494513386146031, 0.026373648294850085, 0.004795208780881834, 0.02157843951396825, 0.1794662133071101, 0.23316476532026115, 0.009891838528738352, 0.002826239579639529, 0.5751397544566441, 0.25567793619923673, 0.2070281066724375, 0.14879035453816694, 0.18607672023388896, 0.20276680773578357, 0.5610265104681895, 0.14480198128982205, 0.07727101243716962, 0.07142698628645931, 0.14545131752878987, 0.03342998820999374, 0.9556084434661625, 0.0097843867931689, 0.036502160789253314, 0.9612235674503373, 0.9860559604127157, 0.9687011434232923, 0.011102591901699625, 0.019429535827974343, 0.9611804410042277, 0.007470314308323013, 0.014940628616646027, 0.01743073338608703, 0.0018524098708117996, 0.04445783689948319, 0.8335844418653099, 0.11855423173195517, 0.9914100848858421, 0.15265818305745943, 0.33236391206203625, 0.18016416198673138, 0.20171051214799443, 0.1329455648248145, 0.990437305231983, 0.06414200551579179, 0.03665257458045245, 0.2677674198516387, 0.05497886187067867, 0.577278049642126, 0.008732460812302669, 0.9867680717902015, 0.1418145151504813, 0.47542222920491745, 0.2055373369361601, 0.08871216366241562, 0.08871216366241562, 0.004417753186341934, 0.9895767137405931, 0.9832602536466194, 0.023290574811771426, 0.007763524937257142, 0.9626770922198855, 0.11212746602762191, 0.03969113841685731, 0.428664294902059, 0.11411202294846479, 0.3056217658098013, 0.9876138376854822, 0.04151889497503095, 0.031139171231273216, 0.9237954131944387, 0.9934672462504344, 0.004455010072871903, 0.02365511102567921, 0.0033793015750970302, 0.04731022205135842, 0.892135615825616, 0.0337930157509703, 0.0028223037124902235, 0.21449508214925697, 0.0028223037124902235, 0.7789558246473016, 0.9941256626872983, 0.0050720697075882564, 0.2887766425016768, 0.002187701837133915, 0.7088153952313885, 0.3678018013297036, 0.002215673501986166, 0.6292512745640712, 0.9940218339550103, 0.42930266055630983, 0.10795330060772702, 0.1531430543504965, 0.16381285731753928, 0.14561142872670157, 0.8441454089836201, 0.06059459618941827, 0.008357875336471487, 0.08566822219883273, 0.9927676107514406, 0.00845862158296815, 0.9812001036243055, 0.6259401426930057, 0.13223217229644937, 0.03831025552513954, 0.0247162938871868, 0.1791931306821043, 0.028544982010403983, 0.9705293883537355, 0.56020839165243, 0.2665101635542417, 0.005706137003050515, 0.010740963770448027, 0.1570865951428024, 0.03153888796891888, 0.22841800680520036, 0.34023770051318547, 0.3306804617347252, 0.06976784308275995, 0.3707366772376121, 0.023945130601092986, 0.16183605509704227, 0.2922957321650661, 0.15110203103448333, 0.9900180614131182, 0.03286914961768733, 0.9614226263173544, 0.19856730809150977, 0.10089365924649685, 0.060106860827700254, 0.5066149698334735, 0.1341671000618309], \"Term\": [\"across\", \"across\", \"across\", \"across\", \"across\", \"adapt\", \"advertising\", \"agency\", \"agency\", \"agreed\", \"agreement\", \"agriculture\", \"agriculture\", \"air\", \"air\", \"aisle\", \"aisle\", \"aisle\", \"aisle\", \"alcohol\", \"alcohol\", \"amid\", \"amid\", \"amid\", \"amid\", \"amid\", \"analyst\", \"arrested\", \"asset\", \"asset\", \"attitude\", \"auto\", \"average\", \"back\", \"back\", \"back\", \"back\", \"back\", \"balance\", \"battle\", \"began\", \"behavior\", \"behavior\", \"behavior\", \"behavior\", \"behaviour\", \"behaviour\", \"behaviour\", \"behaviour\", \"behaviour\", \"bill\", \"bill\", \"bill\", \"bill\", \"blog\", \"blog\", \"booming\", \"bottle\", \"bottle\", \"bottle\", \"bottom\", \"brand\", \"brand\", \"brand\", \"brand\", \"brand\", \"budget\", \"bus\", \"bus\", \"bus\", \"business\", \"business\", \"business\", \"business\", \"business\", \"buy\", \"buy\", \"buy\", \"buy\", \"buy\", \"buying\", \"buying\", \"buying\", \"buying\", \"buying\", \"capacity\", \"change\", \"change\", \"change\", \"change\", \"change\", \"charity\", \"chart\", \"chicken\", \"church\", \"collapse\", \"collapse\", \"commerce\", \"commerce\", \"commercial\", \"commodity\", \"commodity\", \"commodity\", \"commodity\", \"company\", \"company\", \"company\", \"company\", \"company\", \"confidence\", \"confidence\", \"confidence\", \"consumer\", \"consumer\", \"consumer\", \"consumer\", \"consumer\", \"content\", \"coronavirus\", \"coronavirus\", \"coronavirus\", \"coronavirus\", \"coronavirus\", \"cost\", \"cost\", \"cost\", \"cost\", \"cost\", \"could\", \"could\", \"could\", \"could\", \"could\", \"covid\", \"covid\", \"covid\", \"covid\", \"covid\", \"credit\", \"credit\", \"crisis\", \"crisis\", \"crisis\", \"crisis\", \"crisis\", \"crop\", \"crude\", \"crude\", \"crude\", \"curbside\", \"cure\", \"cure\", \"cure\", \"customer\", \"customer\", \"customer\", \"customer\", \"customer\", \"cut\", \"cut\", \"cut\", \"cut\", \"cut\", \"data\", \"data\", \"data\", \"data\", \"day\", \"day\", \"day\", \"day\", \"day\", \"decline\", \"delivering\", \"delivery\", \"delivery\", \"delivery\", \"delivery\", \"delivery\", \"demand\", \"demand\", \"demand\", \"demand\", \"demand\", \"design\", \"died\", \"died\", \"difference\", \"discount\", \"discus\", \"discus\", \"disinfectant\", \"disinfectant\", \"disinfectant\", \"distancing\", \"distancing\", \"distancing\", \"distancing\", \"distancing\", \"distillery\", \"distributor\", \"donation\", \"donation\", \"donation\", \"driven\", \"drop\", \"drop\", \"drop\", \"drop\", \"drop\", \"drug\", \"drug\", \"drug\", \"drug\", \"due\", \"due\", \"due\", \"due\", \"due\", \"dump\", \"dy\", \"dying\", \"dying\", \"easter\", \"easter\", \"economy\", \"economy\", \"economy\", \"economy\", \"economy\", \"egg\", \"egg\", \"egg\", \"electricity\", \"employee\", \"employee\", \"employee\", \"employee\", \"employee\", \"enough\", \"enough\", \"enough\", \"enough\", \"enough\", \"equipment\", \"equity\", \"essential\", \"essential\", \"essential\", \"essential\", \"essential\", \"everyone\", \"everyone\", \"everyone\", \"everyone\", \"everyone\", \"executive\", \"expectation\", \"expensive\", \"export\", \"export\", \"exposed\", \"exposed\", \"exposed\", \"exposed\", \"exposed\", \"exposing\", \"face\", \"face\", \"face\", \"face\", \"face\", \"fake\", \"fake\", \"fall\", \"fall\", \"falling\", \"falling\", \"fda\", \"federal\", \"federal\", \"federal\", \"fell\", \"felt\", \"felt\", \"felt\", \"finance\", \"finance\", \"finance\", \"first\", \"first\", \"first\", \"first\", \"first\", \"flour\", \"flour\", \"flyer\", \"food\", \"food\", \"food\", \"food\", \"food\", \"foot\", \"foot\", \"forecast\", \"founder\", \"frontline\", \"ftc\", \"fuel\", \"fuel\", \"game\", \"game\", \"gas\", \"gas\", \"gas\", \"gas\", \"gas\", \"gate\", \"get\", \"get\", \"get\", \"get\", \"get\", \"global\", \"global\", \"global\", \"global\", \"glove\", \"glove\", \"glove\", \"go\", \"go\", \"go\", \"go\", \"go\", \"going\", \"going\", \"going\", \"going\", \"going\", \"gold\", \"gold\", \"got\", \"got\", \"got\", \"got\", \"governor\", \"governor\", \"grateful\", \"grocery\", \"grocery\", \"grocery\", \"grocery\", \"grocery\", \"grow\", \"guidance\", \"guideline\", \"habit\", \"habit\", \"habit\", \"habit\", \"habit\", \"hand\", \"hand\", \"hand\", \"hand\", \"hand\", \"health\", \"health\", \"health\", \"health\", \"health\", \"help\", \"help\", \"help\", \"help\", \"help\", \"helped\", \"helpful\", \"hero\", \"high\", \"high\", \"high\", \"high\", \"high\", \"higher\", \"higher\", \"higher\", \"higher\", \"higher\", \"historic\", \"hoarding\", \"hoarding\", \"hoarding\", \"hoarding\", \"home\", \"home\", \"home\", \"home\", \"home\", \"hot\", \"hot\", \"hour\", \"hour\", \"hour\", \"hour\", \"hour\", \"housing\", \"houston\", \"hunger\", \"hungry\", \"impact\", \"impact\", \"impact\", \"impact\", \"impact\", \"impacting\", \"impacting\", \"increase\", \"increase\", \"increase\", \"increase\", \"industry\", \"industry\", \"industry\", \"industry\", \"industry\", \"inflation\", \"ingredient\", \"insight\", \"international\", \"inventory\", \"investment\", \"item\", \"item\", \"item\", \"item\", \"item\", \"join\", \"join\", \"join\", \"jumped\", \"killed\", \"know\", \"know\", \"know\", \"know\", \"know\", \"last\", \"last\", \"last\", \"last\", \"last\", \"late\", \"latest\", \"latest\", \"latest\", \"latest\", \"latest\", \"launch\", \"lender\", \"lesson\", \"like\", \"like\", \"like\", \"like\", \"like\", \"line\", \"line\", \"line\", \"line\", \"line\", \"liquor\", \"listed\", \"local\", \"local\", \"local\", \"local\", \"local\", \"lockdown\", \"lockdown\", \"lockdown\", \"lockdown\", \"lockdown\", \"loss\", \"loss\", \"loss\", \"low\", \"low\", \"low\", \"low\", \"low\", \"lower\", \"lower\", \"lower\", \"lower\", \"make\", \"make\", \"make\", \"make\", \"make\", \"many\", \"many\", \"many\", \"many\", \"many\", \"market\", \"market\", \"market\", \"market\", \"market\", \"marketer\", \"mask\", \"mask\", \"mask\", \"mask\", \"mask\", \"meet\", \"meet\", \"meet\", \"meeting\", \"mom\", \"mom\", \"mom\", \"month\", \"month\", \"month\", \"month\", \"month\", \"mostly\", \"n95\", \"need\", \"need\", \"need\", \"need\", \"need\", \"negative\", \"negative\", \"network\", \"new\", \"new\", \"new\", \"new\", \"new\", \"nigeria\", \"nose\", \"oil\", \"oil\", \"oil\", \"oil\", \"oil\", \"one\", \"one\", \"one\", \"one\", \"one\", \"online\", \"online\", \"online\", \"online\", \"online\", \"opec\", \"opinion\", \"organisation\", \"outbreak\", \"outbreak\", \"outbreak\", \"outbreak\", \"outbreak\", \"outlook\", \"output\", \"output\", \"oz\", \"pandemic\", \"pandemic\", \"pandemic\", \"pandemic\", \"pandemic\", \"panic\", \"panic\", \"panic\", \"panic\", \"panic\", \"pantry\", \"pantry\", \"pantry\", \"pantry\", \"pantry\", \"paper\", \"paper\", \"paper\", \"paper\", \"passed\", \"pattern\", \"pattern\", \"people\", \"people\", \"people\", \"people\", \"people\", \"personnel\", \"petrol\", \"please\", \"please\", \"please\", \"please\", \"please\", \"positive\", \"positive\", \"positive\", \"positive\", \"positive\", \"ppe\", \"ppe\", \"price\", \"price\", \"price\", \"price\", \"price\", \"pricing\", \"producer\", \"producer\", \"producer\", \"product\", \"product\", \"product\", \"product\", \"product\", \"production\", \"production\", \"program\", \"program\", \"program\", \"project\", \"property\", \"property\", \"protection\", \"protection\", \"protection\", \"protection\", \"protection\", \"quality\", \"r\", \"range\", \"reaching\", \"read\", \"read\", \"read\", \"read\", \"read\", \"reasonable\", \"record\", \"reduction\", \"rent\", \"rent\", \"report\", \"report\", \"report\", \"report\", \"report\", \"research\", \"research\", \"research\", \"research\", \"responder\", \"responder\", \"response\", \"response\", \"response\", \"response\", \"response\", \"retail\", \"retail\", \"retail\", \"retail\", \"retail\", \"revenue\", \"rising\", \"risking\", \"roll\", \"roll\", \"roll\", \"roll\", \"rt\", \"russia\", \"russia\", \"safe\", \"safe\", \"safe\", \"safe\", \"safe\", \"sanitizer\", \"sanitizer\", \"sanitizer\", \"sanitizer\", \"sanitizer\", \"scam\", \"scam\", \"scammer\", \"search\", \"see\", \"see\", \"see\", \"see\", \"see\", \"sentiment\", \"service\", \"service\", \"service\", \"service\", \"service\", \"session\", \"shelf\", \"shelf\", \"shelf\", \"shelf\", \"shelf\", \"shield\", \"shifting\", \"shirt\", \"shopper\", \"shopper\", \"shopper\", \"shopper\", \"shopper\", \"shopping\", \"shopping\", \"shopping\", \"shopping\", \"shopping\", \"shortage\", \"shortage\", \"shortage\", \"shortage\", \"shortage\", \"sir\", \"slash\", \"slot\", \"slot\", \"slot\", \"slot\", \"slow\", \"snap\", \"soap\", \"soap\", \"soap\", \"soap\", \"social\", \"social\", \"social\", \"social\", \"social\", \"spending\", \"spending\", \"spending\", \"spending\", \"spending\", \"spike\", \"spoke\", \"staff\", \"staff\", \"staff\", \"staff\", \"staff\", \"state\", \"state\", \"state\", \"state\", \"state\", \"stay\", \"stay\", \"stay\", \"stay\", \"stay\", \"still\", \"still\", \"still\", \"still\", \"still\", \"stock\", \"stock\", \"stock\", \"stock\", \"stock\", \"stop\", \"stop\", \"stop\", \"stop\", \"stop\", \"store\", \"store\", \"store\", \"store\", \"store\", \"study\", \"sun\", \"supermarket\", \"supermarket\", \"supermarket\", \"supermarket\", \"supermarket\", \"supply\", \"supply\", \"supply\", \"supply\", \"supply\", \"support\", \"support\", \"support\", \"support\", \"support\", \"surgical\", \"survey\", \"take\", \"take\", \"take\", \"take\", \"take\", \"task\", \"tested\", \"tested\", \"tested\", \"tested\", \"thank\", \"thank\", \"thank\", \"thank\", \"thank\", \"time\", \"time\", \"time\", \"time\", \"time\", \"today\", \"today\", \"today\", \"today\", \"today\", \"toilet\", \"toilet\", \"toilet\", \"touch\", \"touch\", \"toward\", \"trend\", \"trend\", \"trend\", \"trip\", \"trip\", \"trip\", \"trip\", \"trump\", \"trump\", \"trump\", \"trump\", \"trust\", \"u\", \"u\", \"u\", \"u\", \"u\", \"university\", \"use\", \"use\", \"use\", \"use\", \"use\", \"ventilator\", \"ventilator\", \"via\", \"via\", \"via\", \"via\", \"via\", \"view\", \"view\", \"village\", \"virtual\", \"virtual\", \"virtual\", \"virus\", \"virus\", \"virus\", \"virus\", \"virus\", \"visiting\", \"walk\", \"walk\", \"walk\", \"walmart\", \"walmart\", \"war\", \"war\", \"war\", \"war\", \"war\", \"wash\", \"wash\", \"wash\", \"wash\", \"washing\", \"washing\", \"wear\", \"wear\", \"wear\", \"wearing\", \"wearing\", \"wearing\", \"webinar\", \"week\", \"week\", \"week\", \"week\", \"week\", \"went\", \"went\", \"went\", \"went\", \"window\", \"wonder\", \"wonder\", \"work\", \"work\", \"work\", \"work\", \"work\", \"worked\", \"worked\", \"worker\", \"worker\", \"worker\", \"worker\", \"worker\", \"world\", \"world\", \"world\", \"world\", \"world\", \"would\", \"would\", \"would\", \"would\", \"would\", \"writes\", \"wuhan\", \"wuhan\", \"year\", \"year\", \"year\", \"year\", \"year\"]}, \"R\": 30, \"lambda.step\": 0.01, \"plot.opts\": {\"xlab\": \"PC1\", \"ylab\": \"PC2\"}, \"topic.order\": [2, 3, 4, 5, 1]};\n\nfunction LDAvis_load_lib(url, callback){\n  var s = document.createElement('script');\n  s.src = url;\n  s.async = true;\n  s.onreadystatechange = s.onload = callback;\n  s.onerror = function(){console.warn(\"failed to load library \" + url);};\n  document.getElementsByTagName(\"head\")[0].appendChild(s);\n}\n\nif(typeof(LDAvis) !== \"undefined\"){\n   // already loaded: just create the visualization\n   !function(LDAvis){\n       new LDAvis(\"#\" + \"ldavis_el1531401515369690888934393399\", ldavis_el1531401515369690888934393399_data);\n   }(LDAvis);\n}else if(typeof define === \"function\" && define.amd){\n   // require.js is available: use it to load d3/LDAvis\n   require.config({paths: {d3: \"https://d3js.org/d3.v5\"}});\n   require([\"d3\"], function(d3){\n      window.d3 = d3;\n      LDAvis_load_lib(\"https://cdn.jsdelivr.net/gh/bmabey/pyLDAvis@3.3.1/pyLDAvis/js/ldavis.v3.0.0.js\", function(){\n        new LDAvis(\"#\" + \"ldavis_el1531401515369690888934393399\", ldavis_el1531401515369690888934393399_data);\n      });\n    });\n}else{\n    // require.js not available: dynamically load d3 & LDAvis\n    LDAvis_load_lib(\"https://d3js.org/d3.v5.js\", function(){\n         LDAvis_load_lib(\"https://cdn.jsdelivr.net/gh/bmabey/pyLDAvis@3.3.1/pyLDAvis/js/ldavis.v3.0.0.js\", function(){\n                 new LDAvis(\"#\" + \"ldavis_el1531401515369690888934393399\", ldavis_el1531401515369690888934393399_data);\n            })\n         });\n}\n</script>"
     },
     "metadata": {}
    }
   ],
   "execution_count": null
  },
  {
   "cell_type": "markdown",
   "source": "<a style='text-decoration:none;line-height:16px;display:flex;color:#5B5B62;padding:10px;justify-content:end;' href='https://deepnote.com?utm_source=created-in-deepnote-cell&projectId=243f1686-a373-41e3-b8f2-7f0cf58b8249' target=\"_blank\">\n<img alt='Created in deepnote.com' style='display:inline;max-height:16px;margin:0px;margin-right:7.5px;' src='data:image/svg+xml;base64,PD94bWwgdmVyc2lvbj0iMS4wIiBlbmNvZGluZz0iVVRGLTgiPz4KPHN2ZyB3aWR0aD0iODBweCIgaGVpZ2h0PSI4MHB4IiB2aWV3Qm94PSIwIDAgODAgODAiIHZlcnNpb249IjEuMSIgeG1sbnM9Imh0dHA6Ly93d3cudzMub3JnLzIwMDAvc3ZnIiB4bWxuczp4bGluaz0iaHR0cDovL3d3dy53My5vcmcvMTk5OS94bGluayI+CiAgICA8IS0tIEdlbmVyYXRvcjogU2tldGNoIDU0LjEgKDc2NDkwKSAtIGh0dHBzOi8vc2tldGNoYXBwLmNvbSAtLT4KICAgIDx0aXRsZT5Hcm91cCAzPC90aXRsZT4KICAgIDxkZXNjPkNyZWF0ZWQgd2l0aCBTa2V0Y2guPC9kZXNjPgogICAgPGcgaWQ9IkxhbmRpbmciIHN0cm9rZT0ibm9uZSIgc3Ryb2tlLXdpZHRoPSIxIiBmaWxsPSJub25lIiBmaWxsLXJ1bGU9ImV2ZW5vZGQiPgogICAgICAgIDxnIGlkPSJBcnRib2FyZCIgdHJhbnNmb3JtPSJ0cmFuc2xhdGUoLTEyMzUuMDAwMDAwLCAtNzkuMDAwMDAwKSI+CiAgICAgICAgICAgIDxnIGlkPSJHcm91cC0zIiB0cmFuc2Zvcm09InRyYW5zbGF0ZSgxMjM1LjAwMDAwMCwgNzkuMDAwMDAwKSI+CiAgICAgICAgICAgICAgICA8cG9seWdvbiBpZD0iUGF0aC0yMCIgZmlsbD0iIzAyNjVCNCIgcG9pbnRzPSIyLjM3NjIzNzYyIDgwIDM4LjA0NzY2NjcgODAgNTcuODIxNzgyMiA3My44MDU3NTkyIDU3LjgyMTc4MjIgMzIuNzU5MjczOSAzOS4xNDAyMjc4IDMxLjY4MzE2ODMiPjwvcG9seWdvbj4KICAgICAgICAgICAgICAgIDxwYXRoIGQ9Ik0zNS4wMDc3MTgsODAgQzQyLjkwNjIwMDcsNzYuNDU0OTM1OCA0Ny41NjQ5MTY3LDcxLjU0MjI2NzEgNDguOTgzODY2LDY1LjI2MTk5MzkgQzUxLjExMjI4OTksNTUuODQxNTg0MiA0MS42NzcxNzk1LDQ5LjIxMjIyODQgMjUuNjIzOTg0Niw0OS4yMTIyMjg0IEMyNS40ODQ5Mjg5LDQ5LjEyNjg0NDggMjkuODI2MTI5Niw0My4yODM4MjQ4IDM4LjY0NzU4NjksMzEuNjgzMTY4MyBMNzIuODcxMjg3MSwzMi41NTQ0MjUgTDY1LjI4MDk3Myw2Ny42NzYzNDIxIEw1MS4xMTIyODk5LDc3LjM3NjE0NCBMMzUuMDA3NzE4LDgwIFoiIGlkPSJQYXRoLTIyIiBmaWxsPSIjMDAyODY4Ij48L3BhdGg+CiAgICAgICAgICAgICAgICA8cGF0aCBkPSJNMCwzNy43MzA0NDA1IEwyNy4xMTQ1MzcsMC4yNTcxMTE0MzYgQzYyLjM3MTUxMjMsLTEuOTkwNzE3MDEgODAsMTAuNTAwMzkyNyA4MCwzNy43MzA0NDA1IEM4MCw2NC45NjA0ODgyIDY0Ljc3NjUwMzgsNzkuMDUwMzQxNCAzNC4zMjk1MTEzLDgwIEM0Ny4wNTUzNDg5LDc3LjU2NzA4MDggNTMuNDE4MjY3Nyw3MC4zMTM2MTAzIDUzLjQxODI2NzcsNTguMjM5NTg4NSBDNTMuNDE4MjY3Nyw0MC4xMjg1NTU3IDM2LjMwMzk1NDQsMzcuNzMwNDQwNSAyNS4yMjc0MTcsMzcuNzMwNDQwNSBDMTcuODQzMDU4NiwzNy43MzA0NDA1IDkuNDMzOTE5NjYsMzcuNzMwNDQwNSAwLDM3LjczMDQ0MDUgWiIgaWQ9IlBhdGgtMTkiIGZpbGw9IiMzNzkzRUYiPjwvcGF0aD4KICAgICAgICAgICAgPC9nPgogICAgICAgIDwvZz4KICAgIDwvZz4KPC9zdmc+' > </img>\nCreated in <span style='font-weight:600;margin-left:4px;'>Deepnote</span></a>",
   "metadata": {
    "tags": [],
    "created_in_deepnote_cell": true,
    "deepnote_cell_type": "markdown"
   }
  }
 ],
 "nbformat": 4,
 "nbformat_minor": 2,
 "metadata": {
  "orig_nbformat": 2,
  "deepnote": {},
  "deepnote_notebook_id": "64f0471a-cbc9-4bc1-8c23-27d9fc3d86bd",
  "deepnote_execution_queue": []
 }
}